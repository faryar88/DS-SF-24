{
 "cells": [
  {
   "cell_type": "code",
   "execution_count": 16,
   "metadata": {
    "collapsed": false
   },
   "outputs": [
    {
     "data": {
      "text/html": [
       "<div>\n",
       "<table border=\"1\" class=\"dataframe\">\n",
       "  <thead>\n",
       "    <tr style=\"text-align: right;\">\n",
       "      <th></th>\n",
       "      <th>Unnamed: 0</th>\n",
       "      <th>Income</th>\n",
       "      <th>Limit</th>\n",
       "      <th>Rating</th>\n",
       "      <th>Cards</th>\n",
       "      <th>Age</th>\n",
       "      <th>Education</th>\n",
       "      <th>Gender</th>\n",
       "      <th>Student</th>\n",
       "      <th>Married</th>\n",
       "      <th>Ethnicity</th>\n",
       "      <th>Balance</th>\n",
       "    </tr>\n",
       "  </thead>\n",
       "  <tbody>\n",
       "    <tr>\n",
       "      <th>0</th>\n",
       "      <td>1</td>\n",
       "      <td>14.891</td>\n",
       "      <td>3606</td>\n",
       "      <td>283</td>\n",
       "      <td>2</td>\n",
       "      <td>34</td>\n",
       "      <td>11</td>\n",
       "      <td>Male</td>\n",
       "      <td>No</td>\n",
       "      <td>Yes</td>\n",
       "      <td>Caucasian</td>\n",
       "      <td>333</td>\n",
       "    </tr>\n",
       "    <tr>\n",
       "      <th>1</th>\n",
       "      <td>2</td>\n",
       "      <td>106.025</td>\n",
       "      <td>6645</td>\n",
       "      <td>483</td>\n",
       "      <td>3</td>\n",
       "      <td>82</td>\n",
       "      <td>15</td>\n",
       "      <td>Female</td>\n",
       "      <td>Yes</td>\n",
       "      <td>Yes</td>\n",
       "      <td>Asian</td>\n",
       "      <td>903</td>\n",
       "    </tr>\n",
       "    <tr>\n",
       "      <th>2</th>\n",
       "      <td>3</td>\n",
       "      <td>104.593</td>\n",
       "      <td>7075</td>\n",
       "      <td>514</td>\n",
       "      <td>4</td>\n",
       "      <td>71</td>\n",
       "      <td>11</td>\n",
       "      <td>Male</td>\n",
       "      <td>No</td>\n",
       "      <td>No</td>\n",
       "      <td>Asian</td>\n",
       "      <td>580</td>\n",
       "    </tr>\n",
       "    <tr>\n",
       "      <th>3</th>\n",
       "      <td>4</td>\n",
       "      <td>148.924</td>\n",
       "      <td>9504</td>\n",
       "      <td>681</td>\n",
       "      <td>3</td>\n",
       "      <td>36</td>\n",
       "      <td>11</td>\n",
       "      <td>Female</td>\n",
       "      <td>No</td>\n",
       "      <td>No</td>\n",
       "      <td>Asian</td>\n",
       "      <td>964</td>\n",
       "    </tr>\n",
       "    <tr>\n",
       "      <th>4</th>\n",
       "      <td>5</td>\n",
       "      <td>55.882</td>\n",
       "      <td>4897</td>\n",
       "      <td>357</td>\n",
       "      <td>2</td>\n",
       "      <td>68</td>\n",
       "      <td>16</td>\n",
       "      <td>Male</td>\n",
       "      <td>No</td>\n",
       "      <td>Yes</td>\n",
       "      <td>Caucasian</td>\n",
       "      <td>331</td>\n",
       "    </tr>\n",
       "    <tr>\n",
       "      <th>5</th>\n",
       "      <td>6</td>\n",
       "      <td>80.180</td>\n",
       "      <td>8047</td>\n",
       "      <td>569</td>\n",
       "      <td>4</td>\n",
       "      <td>77</td>\n",
       "      <td>10</td>\n",
       "      <td>Male</td>\n",
       "      <td>No</td>\n",
       "      <td>No</td>\n",
       "      <td>Caucasian</td>\n",
       "      <td>1151</td>\n",
       "    </tr>\n",
       "    <tr>\n",
       "      <th>6</th>\n",
       "      <td>7</td>\n",
       "      <td>20.996</td>\n",
       "      <td>3388</td>\n",
       "      <td>259</td>\n",
       "      <td>2</td>\n",
       "      <td>37</td>\n",
       "      <td>12</td>\n",
       "      <td>Female</td>\n",
       "      <td>No</td>\n",
       "      <td>No</td>\n",
       "      <td>African American</td>\n",
       "      <td>203</td>\n",
       "    </tr>\n",
       "    <tr>\n",
       "      <th>7</th>\n",
       "      <td>8</td>\n",
       "      <td>71.408</td>\n",
       "      <td>7114</td>\n",
       "      <td>512</td>\n",
       "      <td>2</td>\n",
       "      <td>87</td>\n",
       "      <td>9</td>\n",
       "      <td>Male</td>\n",
       "      <td>No</td>\n",
       "      <td>No</td>\n",
       "      <td>Asian</td>\n",
       "      <td>872</td>\n",
       "    </tr>\n",
       "    <tr>\n",
       "      <th>8</th>\n",
       "      <td>9</td>\n",
       "      <td>15.125</td>\n",
       "      <td>3300</td>\n",
       "      <td>266</td>\n",
       "      <td>5</td>\n",
       "      <td>66</td>\n",
       "      <td>13</td>\n",
       "      <td>Female</td>\n",
       "      <td>No</td>\n",
       "      <td>No</td>\n",
       "      <td>Caucasian</td>\n",
       "      <td>279</td>\n",
       "    </tr>\n",
       "    <tr>\n",
       "      <th>9</th>\n",
       "      <td>10</td>\n",
       "      <td>71.061</td>\n",
       "      <td>6819</td>\n",
       "      <td>491</td>\n",
       "      <td>3</td>\n",
       "      <td>41</td>\n",
       "      <td>19</td>\n",
       "      <td>Female</td>\n",
       "      <td>Yes</td>\n",
       "      <td>Yes</td>\n",
       "      <td>African American</td>\n",
       "      <td>1350</td>\n",
       "    </tr>\n",
       "  </tbody>\n",
       "</table>\n",
       "</div>"
      ],
      "text/plain": [
       "   Unnamed: 0   Income  Limit  Rating  Cards  Age  Education  Gender Student  \\\n",
       "0           1   14.891   3606     283      2   34         11    Male      No   \n",
       "1           2  106.025   6645     483      3   82         15  Female     Yes   \n",
       "2           3  104.593   7075     514      4   71         11    Male      No   \n",
       "3           4  148.924   9504     681      3   36         11  Female      No   \n",
       "4           5   55.882   4897     357      2   68         16    Male      No   \n",
       "5           6   80.180   8047     569      4   77         10    Male      No   \n",
       "6           7   20.996   3388     259      2   37         12  Female      No   \n",
       "7           8   71.408   7114     512      2   87          9    Male      No   \n",
       "8           9   15.125   3300     266      5   66         13  Female      No   \n",
       "9          10   71.061   6819     491      3   41         19  Female     Yes   \n",
       "\n",
       "  Married         Ethnicity  Balance  \n",
       "0     Yes         Caucasian      333  \n",
       "1     Yes             Asian      903  \n",
       "2      No             Asian      580  \n",
       "3      No             Asian      964  \n",
       "4     Yes         Caucasian      331  \n",
       "5      No         Caucasian     1151  \n",
       "6      No  African American      203  \n",
       "7      No             Asian      872  \n",
       "8      No         Caucasian      279  \n",
       "9     Yes  African American     1350  "
      ]
     },
     "execution_count": 16,
     "metadata": {},
     "output_type": "execute_result"
    }
   ],
   "source": [
    "import pandas as pd\n",
    "import numpy as np\n",
    "import seaborn as sns\n",
    "import statsmodels.formula.api as smf\n",
    "import matplotlib.pyplot as plt\n",
    "%matplotlib inline\n",
    "url = \"https://raw.githubusercontent.com/ga-students/DS-SF-24/master/Data/Credit.csv\"\n",
    "from sklearn.linear_model import LinearRegression\n",
    "linreg = LinearRegression()\n",
    "CreditData = pd.read_csv(url)\n",
    "CreditData.head(10)"
   ]
  },
  {
   "cell_type": "code",
   "execution_count": 17,
   "metadata": {
    "collapsed": false
   },
   "outputs": [],
   "source": [
    "del CreditData['Unnamed: 0']"
   ]
  },
  {
   "cell_type": "markdown",
   "metadata": {},
   "source": [
    "#### Let's look at correlation matrix. This time, we only explore the quantitative variables that affect Credit Balance. From your preliminary analysis, which 3 variables seem to affect Balance the most? In our goal is interpretation; can we use these 3 variables simultaneously? Why?"
   ]
  },
  {
   "cell_type": "code",
   "execution_count": 18,
   "metadata": {
    "collapsed": false
   },
   "outputs": [
    {
     "data": {
      "text/html": [
       "<div>\n",
       "<table border=\"1\" class=\"dataframe\">\n",
       "  <thead>\n",
       "    <tr style=\"text-align: right;\">\n",
       "      <th></th>\n",
       "      <th>Income</th>\n",
       "      <th>Limit</th>\n",
       "      <th>Rating</th>\n",
       "      <th>Cards</th>\n",
       "      <th>Age</th>\n",
       "      <th>Education</th>\n",
       "      <th>Balance</th>\n",
       "    </tr>\n",
       "  </thead>\n",
       "  <tbody>\n",
       "    <tr>\n",
       "      <th>Income</th>\n",
       "      <td>1.000000</td>\n",
       "      <td>0.792088</td>\n",
       "      <td>0.791378</td>\n",
       "      <td>-0.018273</td>\n",
       "      <td>0.175338</td>\n",
       "      <td>-0.027692</td>\n",
       "      <td>0.463656</td>\n",
       "    </tr>\n",
       "    <tr>\n",
       "      <th>Limit</th>\n",
       "      <td>0.792088</td>\n",
       "      <td>1.000000</td>\n",
       "      <td>0.996880</td>\n",
       "      <td>0.010231</td>\n",
       "      <td>0.100888</td>\n",
       "      <td>-0.023549</td>\n",
       "      <td>0.861697</td>\n",
       "    </tr>\n",
       "    <tr>\n",
       "      <th>Rating</th>\n",
       "      <td>0.791378</td>\n",
       "      <td>0.996880</td>\n",
       "      <td>1.000000</td>\n",
       "      <td>0.053239</td>\n",
       "      <td>0.103165</td>\n",
       "      <td>-0.030136</td>\n",
       "      <td>0.863625</td>\n",
       "    </tr>\n",
       "    <tr>\n",
       "      <th>Cards</th>\n",
       "      <td>-0.018273</td>\n",
       "      <td>0.010231</td>\n",
       "      <td>0.053239</td>\n",
       "      <td>1.000000</td>\n",
       "      <td>0.042948</td>\n",
       "      <td>-0.051084</td>\n",
       "      <td>0.086456</td>\n",
       "    </tr>\n",
       "    <tr>\n",
       "      <th>Age</th>\n",
       "      <td>0.175338</td>\n",
       "      <td>0.100888</td>\n",
       "      <td>0.103165</td>\n",
       "      <td>0.042948</td>\n",
       "      <td>1.000000</td>\n",
       "      <td>0.003619</td>\n",
       "      <td>0.001835</td>\n",
       "    </tr>\n",
       "    <tr>\n",
       "      <th>Education</th>\n",
       "      <td>-0.027692</td>\n",
       "      <td>-0.023549</td>\n",
       "      <td>-0.030136</td>\n",
       "      <td>-0.051084</td>\n",
       "      <td>0.003619</td>\n",
       "      <td>1.000000</td>\n",
       "      <td>-0.008062</td>\n",
       "    </tr>\n",
       "    <tr>\n",
       "      <th>Balance</th>\n",
       "      <td>0.463656</td>\n",
       "      <td>0.861697</td>\n",
       "      <td>0.863625</td>\n",
       "      <td>0.086456</td>\n",
       "      <td>0.001835</td>\n",
       "      <td>-0.008062</td>\n",
       "      <td>1.000000</td>\n",
       "    </tr>\n",
       "  </tbody>\n",
       "</table>\n",
       "</div>"
      ],
      "text/plain": [
       "             Income     Limit    Rating     Cards       Age  Education  \\\n",
       "Income     1.000000  0.792088  0.791378 -0.018273  0.175338  -0.027692   \n",
       "Limit      0.792088  1.000000  0.996880  0.010231  0.100888  -0.023549   \n",
       "Rating     0.791378  0.996880  1.000000  0.053239  0.103165  -0.030136   \n",
       "Cards     -0.018273  0.010231  0.053239  1.000000  0.042948  -0.051084   \n",
       "Age        0.175338  0.100888  0.103165  0.042948  1.000000   0.003619   \n",
       "Education -0.027692 -0.023549 -0.030136 -0.051084  0.003619   1.000000   \n",
       "Balance    0.463656  0.861697  0.863625  0.086456  0.001835  -0.008062   \n",
       "\n",
       "            Balance  \n",
       "Income     0.463656  \n",
       "Limit      0.861697  \n",
       "Rating     0.863625  \n",
       "Cards      0.086456  \n",
       "Age        0.001835  \n",
       "Education -0.008062  \n",
       "Balance    1.000000  "
      ]
     },
     "execution_count": 18,
     "metadata": {},
     "output_type": "execute_result"
    }
   ],
   "source": [
    "CreditData.corr()"
   ]
  },
  {
   "cell_type": "markdown",
   "metadata": {},
   "source": [
    "Answer:  1. rating, limit, income\n",
    "         2. limit and rating have a 0.996880 correlation so can't use them simultaneously "
   ]
  },
  {
   "cell_type": "markdown",
   "metadata": {},
   "source": [
    "#### There are few categorical variables, let's first create dummy variables for them\n",
    "    "
   ]
  },
  {
   "cell_type": "code",
   "execution_count": 19,
   "metadata": {
    "collapsed": false
   },
   "outputs": [
    {
     "data": {
      "text/html": [
       "<div>\n",
       "<table border=\"1\" class=\"dataframe\">\n",
       "  <thead>\n",
       "    <tr style=\"text-align: right;\">\n",
       "      <th></th>\n",
       "      <th>Income</th>\n",
       "      <th>Limit</th>\n",
       "      <th>Rating</th>\n",
       "      <th>Cards</th>\n",
       "      <th>Age</th>\n",
       "      <th>Education</th>\n",
       "      <th>Gender</th>\n",
       "      <th>Student</th>\n",
       "      <th>Married</th>\n",
       "      <th>Ethnicity</th>\n",
       "      <th>Balance</th>\n",
       "      <th>Race_Asian</th>\n",
       "      <th>Race_Caucasian</th>\n",
       "      <th>Gender_Female</th>\n",
       "      <th>Married_Yes</th>\n",
       "      <th>Student_Yes</th>\n",
       "    </tr>\n",
       "  </thead>\n",
       "  <tbody>\n",
       "    <tr>\n",
       "      <th>0</th>\n",
       "      <td>14.891</td>\n",
       "      <td>3606</td>\n",
       "      <td>283</td>\n",
       "      <td>2</td>\n",
       "      <td>34</td>\n",
       "      <td>11</td>\n",
       "      <td>Male</td>\n",
       "      <td>No</td>\n",
       "      <td>Yes</td>\n",
       "      <td>Caucasian</td>\n",
       "      <td>333</td>\n",
       "      <td>0.0</td>\n",
       "      <td>1.0</td>\n",
       "      <td>0.0</td>\n",
       "      <td>1.0</td>\n",
       "      <td>0.0</td>\n",
       "    </tr>\n",
       "    <tr>\n",
       "      <th>1</th>\n",
       "      <td>106.025</td>\n",
       "      <td>6645</td>\n",
       "      <td>483</td>\n",
       "      <td>3</td>\n",
       "      <td>82</td>\n",
       "      <td>15</td>\n",
       "      <td>Female</td>\n",
       "      <td>Yes</td>\n",
       "      <td>Yes</td>\n",
       "      <td>Asian</td>\n",
       "      <td>903</td>\n",
       "      <td>1.0</td>\n",
       "      <td>0.0</td>\n",
       "      <td>1.0</td>\n",
       "      <td>1.0</td>\n",
       "      <td>1.0</td>\n",
       "    </tr>\n",
       "    <tr>\n",
       "      <th>2</th>\n",
       "      <td>104.593</td>\n",
       "      <td>7075</td>\n",
       "      <td>514</td>\n",
       "      <td>4</td>\n",
       "      <td>71</td>\n",
       "      <td>11</td>\n",
       "      <td>Male</td>\n",
       "      <td>No</td>\n",
       "      <td>No</td>\n",
       "      <td>Asian</td>\n",
       "      <td>580</td>\n",
       "      <td>1.0</td>\n",
       "      <td>0.0</td>\n",
       "      <td>0.0</td>\n",
       "      <td>0.0</td>\n",
       "      <td>0.0</td>\n",
       "    </tr>\n",
       "    <tr>\n",
       "      <th>3</th>\n",
       "      <td>148.924</td>\n",
       "      <td>9504</td>\n",
       "      <td>681</td>\n",
       "      <td>3</td>\n",
       "      <td>36</td>\n",
       "      <td>11</td>\n",
       "      <td>Female</td>\n",
       "      <td>No</td>\n",
       "      <td>No</td>\n",
       "      <td>Asian</td>\n",
       "      <td>964</td>\n",
       "      <td>1.0</td>\n",
       "      <td>0.0</td>\n",
       "      <td>1.0</td>\n",
       "      <td>0.0</td>\n",
       "      <td>0.0</td>\n",
       "    </tr>\n",
       "    <tr>\n",
       "      <th>4</th>\n",
       "      <td>55.882</td>\n",
       "      <td>4897</td>\n",
       "      <td>357</td>\n",
       "      <td>2</td>\n",
       "      <td>68</td>\n",
       "      <td>16</td>\n",
       "      <td>Male</td>\n",
       "      <td>No</td>\n",
       "      <td>Yes</td>\n",
       "      <td>Caucasian</td>\n",
       "      <td>331</td>\n",
       "      <td>0.0</td>\n",
       "      <td>1.0</td>\n",
       "      <td>0.0</td>\n",
       "      <td>1.0</td>\n",
       "      <td>0.0</td>\n",
       "    </tr>\n",
       "  </tbody>\n",
       "</table>\n",
       "</div>"
      ],
      "text/plain": [
       "    Income  Limit  Rating  Cards  Age  Education  Gender Student Married  \\\n",
       "0   14.891   3606     283      2   34         11    Male      No     Yes   \n",
       "1  106.025   6645     483      3   82         15  Female     Yes     Yes   \n",
       "2  104.593   7075     514      4   71         11    Male      No      No   \n",
       "3  148.924   9504     681      3   36         11  Female      No      No   \n",
       "4   55.882   4897     357      2   68         16    Male      No     Yes   \n",
       "\n",
       "   Ethnicity  Balance  Race_Asian  Race_Caucasian  Gender_Female  Married_Yes  \\\n",
       "0  Caucasian      333         0.0             1.0            0.0          1.0   \n",
       "1      Asian      903         1.0             0.0            1.0          1.0   \n",
       "2      Asian      580         1.0             0.0            0.0          0.0   \n",
       "3      Asian      964         1.0             0.0            1.0          0.0   \n",
       "4  Caucasian      331         0.0             1.0            0.0          1.0   \n",
       "\n",
       "   Student_Yes  \n",
       "0          0.0  \n",
       "1          1.0  \n",
       "2          0.0  \n",
       "3          0.0  \n",
       "4          0.0  "
      ]
     },
     "execution_count": 19,
     "metadata": {},
     "output_type": "execute_result"
    }
   ],
   "source": [
    "\n",
    "RaceDummy = pd.get_dummies(CreditData.Ethnicity, prefix = 'Race')\n",
    "del RaceDummy['Race_African American']\n",
    "\n",
    "GenderDummy = pd.get_dummies(CreditData.Gender, prefix = 'Gender')\n",
    "del GenderDummy['Gender_ Male']  \n",
    "\n",
    "MarriedDummy = pd.get_dummies(CreditData.Married, prefix = 'Married')\n",
    "del MarriedDummy['Married_No']\n",
    "\n",
    "StudentDummy = pd.get_dummies(CreditData.Student, prefix = 'Student')\n",
    "del StudentDummy['Student_No']\n",
    "\n",
    "CreditData = pd.concat([CreditData, RaceDummy,GenderDummy,MarriedDummy,StudentDummy], axis=1)\n",
    "\n",
    "CreditData.head()"
   ]
  },
  {
   "cell_type": "markdown",
   "metadata": {},
   "source": [
    "# Now it's time for some fun!"
   ]
  },
  {
   "cell_type": "markdown",
   "metadata": {},
   "source": [
    "#### By a regression line, use Education, Ethnicity, Gender, Age, Cards, and Income to predict Balance. \n",
    "\n",
    "First Step, find the coefficients of your regression line"
   ]
  },
  {
   "cell_type": "code",
   "execution_count": 32,
   "metadata": {
    "collapsed": false
   },
   "outputs": [
    {
     "name": "stdout",
     "output_type": "stream",
     "text": [
      "230.042354393\n",
      "[  1.64553607  -6.54603078   3.47497641  27.12543123  -2.32970547\n",
      "  33.62953508   6.27995894]\n"
     ]
    }
   ],
   "source": [
    "# ListVariables = CreditData.columns.values\n",
    "# print(ListVariables)\n",
    "\n",
    "x = CreditData[['Education', 'Race_Asian', 'Race_Caucasian', 'Gender_Female', 'Age', 'Cards', 'Income']]\n",
    "y = CreditData['Balance']\n",
    "linreg.fit(x, y)\n",
    "\n",
    "print(linreg.intercept_)\n",
    "print(linreg.coef_)\n"
   ]
  },
  {
   "cell_type": "markdown",
   "metadata": {},
   "source": [
    "Second Step, find the p-values of your estimates. You have a few variables try to show your p-values along side the names of the variables."
   ]
  },
  {
   "cell_type": "code",
   "execution_count": 33,
   "metadata": {
    "collapsed": false
   },
   "outputs": [
    {
     "data": {
      "text/plain": [
       "[('Education', 0.87230640156710226),\n",
       " ('Race_Asian', 0.84489564436221742),\n",
       " ('Race_Caucasian', 0.94772751139663791),\n",
       " ('Gender_Female', 0.66851610550260099),\n",
       " ('Age', 0.97081387233013317),\n",
       " ('Cards', 0.084176555599370956),\n",
       " ('Income', 1.0308858025893513e-22)]"
      ]
     },
     "execution_count": 33,
     "metadata": {},
     "output_type": "execute_result"
    }
   ],
   "source": [
    "from sklearn import feature_selection \n",
    "p_vals = feature_selection.f_regression(x, y)[1]\n",
    "\n",
    "zip(x, p_vals)"
   ]
  },
  {
   "cell_type": "markdown",
   "metadata": {},
   "source": [
    "**Which of your coefficients are significant at significance level 5%?**"
   ]
  },
  {
   "cell_type": "markdown",
   "metadata": {},
   "source": [
    "Answer: Income "
   ]
  },
  {
   "cell_type": "markdown",
   "metadata": {},
   "source": [
    "#### What is the R-Squared of your model?"
   ]
  },
  {
   "cell_type": "code",
   "execution_count": 34,
   "metadata": {
    "collapsed": false
   },
   "outputs": [
    {
     "name": "stdout",
     "output_type": "stream",
     "text": [
      "0.232312608335\n"
     ]
    },
    {
     "data": {
      "text/plain": [
       "0.23231260833540443"
      ]
     },
     "execution_count": 34,
     "metadata": {},
     "output_type": "execute_result"
    }
   ],
   "source": [
    "RSS = sum((y - linreg.predict(x)) ** 2)\n",
    "TSS = sum((y - y.mean()) ** 2)\n",
    "r_squared = 1 - float(RSS/TSS)\n",
    "print(r_squared)\n",
    "linreg.score(x, y)"
   ]
  },
  {
   "cell_type": "markdown",
   "metadata": {},
   "source": [
    "#### How do we interpret this value?"
   ]
  },
  {
   "cell_type": "markdown",
   "metadata": {},
   "source": [
    "Answer: our regression line accounts for about 23.2% of the variability of the data "
   ]
  },
  {
   "cell_type": "markdown",
   "metadata": {},
   "source": [
    "#### Now focus on two of the most significant variables from your previous model and re-run your regression model. "
   ]
  },
  {
   "cell_type": "code",
   "execution_count": 35,
   "metadata": {
    "collapsed": false
   },
   "outputs": [
    {
     "data": {
      "text/plain": [
       "0.22399175162249518"
      ]
     },
     "execution_count": 35,
     "metadata": {},
     "output_type": "execute_result"
    }
   ],
   "source": [
    "x = CreditData[['Cards', 'Income']]\n",
    "y = CreditData['Balance']\n",
    "\n",
    "linreg.fit(x, y)\n",
    "linreg.score(x, y)\n",
    "\n"
   ]
  },
  {
   "cell_type": "markdown",
   "metadata": {},
   "source": [
    "**In comparison to the previous model, did our R-Squared increase or decrease? Why?**"
   ]
  },
  {
   "cell_type": "markdown",
   "metadata": {},
   "source": [
    "Answer: our r-squared decreased "
   ]
  },
  {
   "cell_type": "markdown",
   "metadata": {},
   "source": [
    "#### Now let's regress Balance on Gender alone. After running your regression lines, do you have enough evidence to claim that females having more balance than males? (Hint: Look at the p-value of the Gender coefficient. If it is significant then you will have evidence to support that claim, otherwise you cannot support the statement."
   ]
  },
  {
   "cell_type": "code",
   "execution_count": 41,
   "metadata": {
    "collapsed": false
   },
   "outputs": [
    {
     "data": {
      "text/plain": [
       "[('Gender_Female', 0.66851610550260099)]"
      ]
     },
     "execution_count": 41,
     "metadata": {},
     "output_type": "execute_result"
    }
   ],
   "source": [
    "x = CreditData[['Gender_Female']]\n",
    "y = CreditData['Balance']\n",
    "\n",
    "p_vals = feature_selection.f_regression(x, y)[1]\n",
    "zip(x, p_vals)"
   ]
  },
  {
   "cell_type": "markdown",
   "metadata": {},
   "source": [
    "Answer: no, there is not enough evidence to support that claim "
   ]
  },
  {
   "cell_type": "markdown",
   "metadata": {},
   "source": [
    "#### Now let's regress Balance on Ethnicity. After running your regression lines, do you have enough evidence to claim that some ethnic groups carry more balance than others? (Hint: Look at the p-value of  your dummy variables. If it is significant then you will have evidence to support that claim, otherwise you cannot support that statement."
   ]
  },
  {
   "cell_type": "code",
   "execution_count": 42,
   "metadata": {
    "collapsed": false
   },
   "outputs": [
    {
     "data": {
      "text/plain": [
       "[('Race_Asian', 0.84489564436221742), ('Race_Caucasian', 0.94772751139663791)]"
      ]
     },
     "execution_count": 42,
     "metadata": {},
     "output_type": "execute_result"
    }
   ],
   "source": [
    "x = CreditData[['Race_Asian', 'Race_Caucasian']]\n",
    "y = CreditData['Balance']\n",
    "\n",
    "p_vals = feature_selection.f_regression(x, y)[1]\n",
    "zip(x, p_vals)"
   ]
  },
  {
   "cell_type": "markdown",
   "metadata": {},
   "source": [
    "Answer: no, there is not enough evidence to support that claim "
   ]
  },
  {
   "cell_type": "markdown",
   "metadata": {},
   "source": [
    "#### I know you get tired of this but for the last time regress Balance on Studentship status. After running your regression lines, do you have enough evidence to claim that students  carry more balance than others? (Hint: Look at the p-value of the your dummy variables. If it is significant then you will have evidence to support that claim, otherwise you cannot support the statement.\n"
   ]
  },
  {
   "cell_type": "code",
   "execution_count": 43,
   "metadata": {
    "collapsed": false
   },
   "outputs": [
    {
     "data": {
      "text/plain": [
       "[('Student_Yes', 1.4877341077327523e-07)]"
      ]
     },
     "execution_count": 43,
     "metadata": {},
     "output_type": "execute_result"
    }
   ],
   "source": [
    "x = CreditData[['Student_Yes']]\n",
    "y = CreditData['Balance']\n",
    "\n",
    "p_vals = feature_selection.f_regression(x, y)[1]\n",
    "zip(x, p_vals)"
   ]
  },
  {
   "cell_type": "markdown",
   "metadata": {},
   "source": [
    "Answer: yes, the p-value is below 5% significance level "
   ]
  },
  {
   "cell_type": "markdown",
   "metadata": {},
   "source": [
    "#### Now let's consider effect of students and income on balance simultaneously. Let's start with a regression line."
   ]
  },
  {
   "cell_type": "code",
   "execution_count": 46,
   "metadata": {
    "collapsed": false
   },
   "outputs": [
    {
     "data": {
      "text/plain": [
       "[('Student_Yes', 1.4877341077327523e-07), ('Income', 1.0308858025893513e-22)]"
      ]
     },
     "execution_count": 46,
     "metadata": {},
     "output_type": "execute_result"
    }
   ],
   "source": [
    "x = CreditData[['Student_Yes', 'Income']]\n",
    "y = CreditData['Balance']\n",
    "\n",
    "p_vals = feature_selection.f_regression(x, y)[1]\n",
    "zip(x, p_vals)\n",
    "\n"
   ]
  },
  {
   "cell_type": "markdown",
   "metadata": {},
   "source": [
    "#### Are all of our regression coefficients significant? If yes, interpret them."
   ]
  },
  {
   "cell_type": "markdown",
   "metadata": {},
   "source": [
    "Answer: yes"
   ]
  },
  {
   "cell_type": "markdown",
   "metadata": {},
   "source": [
    "#### Now let's explore interaction between income and studentship. Let's start with a regression line"
   ]
  },
  {
   "cell_type": "code",
   "execution_count": 48,
   "metadata": {
    "collapsed": false
   },
   "outputs": [
    {
     "data": {
      "text/html": [
       "<div>\n",
       "<table border=\"1\" class=\"dataframe\">\n",
       "  <thead>\n",
       "    <tr style=\"text-align: right;\">\n",
       "      <th></th>\n",
       "      <th>Income</th>\n",
       "      <th>Limit</th>\n",
       "      <th>Rating</th>\n",
       "      <th>Cards</th>\n",
       "      <th>Age</th>\n",
       "      <th>Education</th>\n",
       "      <th>Gender</th>\n",
       "      <th>Student</th>\n",
       "      <th>Married</th>\n",
       "      <th>Ethnicity</th>\n",
       "      <th>Balance</th>\n",
       "      <th>Race_Asian</th>\n",
       "      <th>Race_Caucasian</th>\n",
       "      <th>Gender_Female</th>\n",
       "      <th>Married_Yes</th>\n",
       "      <th>Student_Yes</th>\n",
       "      <th>Studentship_Income</th>\n",
       "    </tr>\n",
       "  </thead>\n",
       "  <tbody>\n",
       "    <tr>\n",
       "      <th>0</th>\n",
       "      <td>14.891</td>\n",
       "      <td>3606</td>\n",
       "      <td>283</td>\n",
       "      <td>2</td>\n",
       "      <td>34</td>\n",
       "      <td>11</td>\n",
       "      <td>Male</td>\n",
       "      <td>No</td>\n",
       "      <td>Yes</td>\n",
       "      <td>Caucasian</td>\n",
       "      <td>333</td>\n",
       "      <td>0.0</td>\n",
       "      <td>1.0</td>\n",
       "      <td>0.0</td>\n",
       "      <td>1.0</td>\n",
       "      <td>0.0</td>\n",
       "      <td>0.000</td>\n",
       "    </tr>\n",
       "    <tr>\n",
       "      <th>1</th>\n",
       "      <td>106.025</td>\n",
       "      <td>6645</td>\n",
       "      <td>483</td>\n",
       "      <td>3</td>\n",
       "      <td>82</td>\n",
       "      <td>15</td>\n",
       "      <td>Female</td>\n",
       "      <td>Yes</td>\n",
       "      <td>Yes</td>\n",
       "      <td>Asian</td>\n",
       "      <td>903</td>\n",
       "      <td>1.0</td>\n",
       "      <td>0.0</td>\n",
       "      <td>1.0</td>\n",
       "      <td>1.0</td>\n",
       "      <td>1.0</td>\n",
       "      <td>106.025</td>\n",
       "    </tr>\n",
       "  </tbody>\n",
       "</table>\n",
       "</div>"
      ],
      "text/plain": [
       "    Income  Limit  Rating  Cards  Age  Education  Gender Student Married  \\\n",
       "0   14.891   3606     283      2   34         11    Male      No     Yes   \n",
       "1  106.025   6645     483      3   82         15  Female     Yes     Yes   \n",
       "\n",
       "   Ethnicity  Balance  Race_Asian  Race_Caucasian  Gender_Female  Married_Yes  \\\n",
       "0  Caucasian      333         0.0             1.0            0.0          1.0   \n",
       "1      Asian      903         1.0             0.0            1.0          1.0   \n",
       "\n",
       "   Student_Yes  Studentship_Income  \n",
       "0          0.0               0.000  \n",
       "1          1.0             106.025  "
      ]
     },
     "execution_count": 48,
     "metadata": {},
     "output_type": "execute_result"
    }
   ],
   "source": [
    "# First generate a column for interaction term\n",
    "CreditData['Studentship_Income'] = CreditData['Student_Yes'] * CreditData['Income']\n",
    "CreditData.head(2)"
   ]
  },
  {
   "cell_type": "code",
   "execution_count": 53,
   "metadata": {
    "collapsed": false
   },
   "outputs": [
    {
     "name": "stdout",
     "output_type": "stream",
     "text": [
      "('Intercept =', 200.62315294978094)\n",
      "('coefficients =', array([ 476.67584321,    6.21816874,   -1.99915087]))\n",
      "('P-Values = ', Intercept    5.789658e-09\n",
      "x[0]         6.586095e-06\n",
      "x[1]         6.340684e-23\n",
      "x[2]         2.488919e-01\n",
      "dtype: float64)\n",
      "('R_Squared = ', 0.27988370306198973)\n"
     ]
    }
   ],
   "source": [
    "x = CreditData[['Student_Yes', 'Income', 'Studentship_Income']]\n",
    "y = CreditData['Balance']\n",
    "\n",
    "p_vals = feature_selection.f_regression(x, y)[1]\n",
    "zip(x, p_vals)\n",
    "\n",
    "linreg.fit(x, y)\n",
    "lm = smf.ols(formula='y ~ x', data=CreditData).fit()\n",
    "r_squared = linreg.score(x, y)\n",
    "\n",
    "print('Intercept =' ,linreg.intercept_)\n",
    "print('coefficients =' ,linreg.coef_)\n",
    "print('P-Values = ',lm.pvalues)\n",
    "print('R_Squared = ', r_squared)"
   ]
  },
  {
   "cell_type": "markdown",
   "metadata": {},
   "source": [
    "#### Are our coefficients signifincant? It they are write down your regression line below:"
   ]
  },
  {
   "cell_type": "markdown",
   "metadata": {},
   "source": [
    "Answer: yes => Balance = 200.62315294978094 + 476.67584321 * Student_Yes + 6.21816874 * Income + -1.99915087 * Studentship_Income"
   ]
  },
  {
   "cell_type": "markdown",
   "metadata": {},
   "source": [
    "#### Assume all coefficients in above regression were significant. Is there any income level at which students and non-students on average carry same level of balance?"
   ]
  },
  {
   "cell_type": "markdown",
   "metadata": {},
   "source": [
    "Answer: \n",
    "\n"
   ]
  },
  {
   "cell_type": "code",
   "execution_count": null,
   "metadata": {
    "collapsed": true
   },
   "outputs": [],
   "source": []
  },
  {
   "cell_type": "code",
   "execution_count": null,
   "metadata": {
    "collapsed": true
   },
   "outputs": [],
   "source": []
  }
 ],
 "metadata": {
  "kernelspec": {
   "display_name": "Python 2",
   "language": "python",
   "name": "python2"
  },
  "language_info": {
   "codemirror_mode": {
    "name": "ipython",
    "version": 2
   },
   "file_extension": ".py",
   "mimetype": "text/x-python",
   "name": "python",
   "nbconvert_exporter": "python",
   "pygments_lexer": "ipython2",
   "version": "2.7.11"
  }
 },
 "nbformat": 4,
 "nbformat_minor": 0
}
