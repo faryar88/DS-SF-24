{
 "cells": [
  {
   "cell_type": "code",
   "execution_count": 34,
   "metadata": {
    "collapsed": false
   },
   "outputs": [
    {
     "data": {
      "text/html": [
       "<div>\n",
       "<table border=\"1\" class=\"dataframe\">\n",
       "  <thead>\n",
       "    <tr style=\"text-align: right;\">\n",
       "      <th></th>\n",
       "      <th>Unnamed: 0</th>\n",
       "      <th>TV</th>\n",
       "      <th>Radio</th>\n",
       "      <th>Newspaper</th>\n",
       "      <th>Sales</th>\n",
       "    </tr>\n",
       "  </thead>\n",
       "  <tbody>\n",
       "    <tr>\n",
       "      <th>0</th>\n",
       "      <td>1</td>\n",
       "      <td>230.1</td>\n",
       "      <td>37.8</td>\n",
       "      <td>69.2</td>\n",
       "      <td>22.1</td>\n",
       "    </tr>\n",
       "    <tr>\n",
       "      <th>1</th>\n",
       "      <td>2</td>\n",
       "      <td>44.5</td>\n",
       "      <td>39.3</td>\n",
       "      <td>45.1</td>\n",
       "      <td>10.4</td>\n",
       "    </tr>\n",
       "  </tbody>\n",
       "</table>\n",
       "</div>"
      ],
      "text/plain": [
       "   Unnamed: 0     TV  Radio  Newspaper  Sales\n",
       "0           1  230.1   37.8       69.2   22.1\n",
       "1           2   44.5   39.3       45.1   10.4"
      ]
     },
     "execution_count": 34,
     "metadata": {},
     "output_type": "execute_result"
    }
   ],
   "source": [
    "import pandas as pd\n",
    "url = \"https://raw.githubusercontent.com/ga-students/DS-SF-24/master/Data/AdvertisingCleaned\"\n",
    "AdData = pd.read_csv(url)\n",
    "AdData.head(2)"
   ]
  },
  {
   "cell_type": "code",
   "execution_count": 35,
   "metadata": {
    "collapsed": true
   },
   "outputs": [],
   "source": [
    "del AdData['Unnamed: 0']"
   ]
  },
  {
   "cell_type": "code",
   "execution_count": 36,
   "metadata": {
    "collapsed": false
   },
   "outputs": [],
   "source": [
    "import seaborn as sns\n",
    "import matplotlib.pyplot as plt\n",
    "%matplotlib inline\n",
    "import numpy as np"
   ]
  },
  {
   "cell_type": "code",
   "execution_count": 37,
   "metadata": {
    "collapsed": false
   },
   "outputs": [
    {
     "data": {
      "text/html": [
       "<div>\n",
       "<table border=\"1\" class=\"dataframe\">\n",
       "  <thead>\n",
       "    <tr style=\"text-align: right;\">\n",
       "      <th></th>\n",
       "      <th>TV</th>\n",
       "      <th>Radio</th>\n",
       "      <th>Newspaper</th>\n",
       "      <th>Sales</th>\n",
       "      <th>TV_Square</th>\n",
       "      <th>TV_Cube</th>\n",
       "      <th>Log</th>\n",
       "    </tr>\n",
       "  </thead>\n",
       "  <tbody>\n",
       "    <tr>\n",
       "      <th>0</th>\n",
       "      <td>230.1</td>\n",
       "      <td>37.8</td>\n",
       "      <td>69.2</td>\n",
       "      <td>22.1</td>\n",
       "      <td>52946.01</td>\n",
       "      <td>1.218288e+07</td>\n",
       "      <td>5.442851</td>\n",
       "    </tr>\n",
       "    <tr>\n",
       "      <th>1</th>\n",
       "      <td>44.5</td>\n",
       "      <td>39.3</td>\n",
       "      <td>45.1</td>\n",
       "      <td>10.4</td>\n",
       "      <td>1980.25</td>\n",
       "      <td>8.812112e+04</td>\n",
       "      <td>3.817712</td>\n",
       "    </tr>\n",
       "  </tbody>\n",
       "</table>\n",
       "</div>"
      ],
      "text/plain": [
       "      TV  Radio  Newspaper  Sales  TV_Square       TV_Cube       Log\n",
       "0  230.1   37.8       69.2   22.1   52946.01  1.218288e+07  5.442851\n",
       "1   44.5   39.3       45.1   10.4    1980.25  8.812112e+04  3.817712"
      ]
     },
     "execution_count": 37,
     "metadata": {},
     "output_type": "execute_result"
    }
   ],
   "source": [
    "AdData['TV_Square'] = AdData.TV ** 2\n",
    "AdData['TV_Cube'] = AdData.TV ** 3\n",
    "AdData['Log'] = np.log(AdData.TV +1 )\n",
    "AdData\n",
    "AdData.head(2)"
   ]
  },
  {
   "cell_type": "markdown",
   "metadata": {},
   "source": [
    "## Now let's build a regression line (Import, Instantiate, Fit)"
   ]
  },
  {
   "cell_type": "code",
   "execution_count": 38,
   "metadata": {
    "collapsed": true
   },
   "outputs": [],
   "source": [
    "from sklearn.linear_model import LinearRegression  #import"
   ]
  },
  {
   "cell_type": "code",
   "execution_count": 39,
   "metadata": {
    "collapsed": false
   },
   "outputs": [],
   "source": [
    "linreg = LinearRegression() #Instantiate"
   ]
  },
  {
   "cell_type": "code",
   "execution_count": 40,
   "metadata": {
    "collapsed": false
   },
   "outputs": [],
   "source": [
    "X_Line = AdData[['TV']]\n",
    "X_Quad = AdData[['TV', 'TV_Square']]\n",
    "X_Cube = AdData[['TV', 'TV_Square','TV_Cube']]\n",
    "X_log = AdData[['Log']]\n",
    "y = AdData['Sales']"
   ]
  },
  {
   "cell_type": "code",
   "execution_count": 41,
   "metadata": {
    "collapsed": false
   },
   "outputs": [
    {
     "data": {
      "image/png": "[encoded data removed]",
      "text/plain": [
       "<matplotlib.figure.Figure at 0x11bea27d0>"
      ]
     },
     "metadata": {},
     "output_type": "display_data"
    }
   ],
   "source": [
    "plt.figure(figsize=(15,10))\n",
    "plt.scatter(AdData['TV'], AdData['Sales'], marker =\"x\", label = 'Observations')\n",
    "\n",
    "#Simple Line\n",
    "linreg.fit(X_Line , y)\n",
    "Predicted_Values_line = linreg.predict(X_Line)\n",
    "plt.scatter(AdData['TV'], Predicted_Values_line, color = 'b', label = 'Simple Line')\n",
    "\n",
    "#Quadratic Function\n",
    "linreg.fit(X_Quad  , y)\n",
    "Predicted_Values_Quad  = linreg.predict(X_Quad )\n",
    "plt.scatter(AdData['TV'], Predicted_Values_Quad,  color = 'r', label = 'Quadratic')\n",
    "\n",
    "\n",
    "#Cubic Function\n",
    "linreg.fit(X_Cube  , y)\n",
    "Predicted_Values_Cube  = linreg.predict(X_Cube )\n",
    "plt.scatter(AdData['TV'], Predicted_Values_Cube,  color = 'g', label = 'Cubic')\n",
    "\n",
    "#Logarithmic Function\n",
    "linreg.fit(X_log   , y)\n",
    "Predicted_Values_Log  = linreg.predict(X_log  )\n",
    "plt.scatter(AdData['TV'], Predicted_Values_Log,  color = 'k', label = 'Logarithm')\n",
    "\n",
    "plt.xlabel(\"TV ads in $1000s\")\n",
    "plt.ylabel(\"Sales in 1000 Units\")\n",
    "plt.legend()\n",
    "plt.show()\n"
   ]
  },
  {
   "cell_type": "markdown",
   "metadata": {},
   "source": [
    "#### Let's import data once again and only use our original data"
   ]
  },
  {
   "cell_type": "code",
   "execution_count": 42,
   "metadata": {
    "collapsed": false
   },
   "outputs": [
    {
     "data": {
      "text/html": [
       "<div>\n",
       "<table border=\"1\" class=\"dataframe\">\n",
       "  <thead>\n",
       "    <tr style=\"text-align: right;\">\n",
       "      <th></th>\n",
       "      <th>TV</th>\n",
       "      <th>Radio</th>\n",
       "      <th>Newspaper</th>\n",
       "      <th>Sales</th>\n",
       "    </tr>\n",
       "  </thead>\n",
       "  <tbody>\n",
       "    <tr>\n",
       "      <th>0</th>\n",
       "      <td>230.1</td>\n",
       "      <td>37.8</td>\n",
       "      <td>69.2</td>\n",
       "      <td>22.1</td>\n",
       "    </tr>\n",
       "    <tr>\n",
       "      <th>1</th>\n",
       "      <td>44.5</td>\n",
       "      <td>39.3</td>\n",
       "      <td>45.1</td>\n",
       "      <td>10.4</td>\n",
       "    </tr>\n",
       "  </tbody>\n",
       "</table>\n",
       "</div>"
      ],
      "text/plain": [
       "      TV  Radio  Newspaper  Sales\n",
       "0  230.1   37.8       69.2   22.1\n",
       "1   44.5   39.3       45.1   10.4"
      ]
     },
     "execution_count": 42,
     "metadata": {},
     "output_type": "execute_result"
    }
   ],
   "source": [
    "url = \"https://raw.githubusercontent.com/ga-students/DS-SF-24/master/Data/AdvertisingCleaned\"\n",
    "AdData = pd.read_csv(url)\n",
    "del AdData['Unnamed: 0']\n",
    "AdData.head(2)"
   ]
  },
  {
   "cell_type": "markdown",
   "metadata": {},
   "source": [
    "#### Let's start with running a regression line on all variables\n",
    "\n",
    "**Here is a handy way to deal with all variables simultanously**"
   ]
  },
  {
   "cell_type": "code",
   "execution_count": 43,
   "metadata": {
    "collapsed": false
   },
   "outputs": [
    {
     "name": "stdout",
     "output_type": "stream",
     "text": [
      "['TV' 'Radio' 'Newspaper' 'Sales']\n",
      "['TV' 'Radio' 'Newspaper']\n"
     ]
    }
   ],
   "source": [
    "ListOfAllVariables = AdData.columns.values\n",
    "print(ListOfAllVariables)\n",
    "print(ListOfAllVariables[0:3])"
   ]
  },
  {
   "cell_type": "code",
   "execution_count": 44,
   "metadata": {
    "collapsed": true
   },
   "outputs": [],
   "source": [
    "X = AdData[ListOfAllVariables[0:3]]\n",
    "y= AdData['Sales']"
   ]
  },
  {
   "cell_type": "code",
   "execution_count": 45,
   "metadata": {
    "collapsed": false
   },
   "outputs": [
    {
     "data": {
      "text/plain": [
       "LinearRegression(copy_X=True, fit_intercept=True, n_jobs=1, normalize=False)"
      ]
     },
     "execution_count": 45,
     "metadata": {},
     "output_type": "execute_result"
    }
   ],
   "source": [
    "linreg.fit(X,y)     #Fit"
   ]
  },
  {
   "cell_type": "code",
   "execution_count": 46,
   "metadata": {
    "collapsed": false
   },
   "outputs": [
    {
     "name": "stdout",
     "output_type": "stream",
     "text": [
      "2.95230856712\n",
      "[ 0.04569034  0.18855047 -0.00117766]\n"
     ]
    }
   ],
   "source": [
    "# Let's print intercept and slope\n",
    "print(linreg.intercept_)\n",
    "print(linreg.coef_)"
   ]
  },
  {
   "cell_type": "code",
   "execution_count": 47,
   "metadata": {
    "collapsed": false
   },
   "outputs": [
    {
     "name": "stdout",
     "output_type": "stream",
     "text": [
      "Sales_Hat = 2.952309 + 0.045690 * TV + 0.188550 * Radio -0.001178 * Newspaper\n"
     ]
    }
   ],
   "source": [
    "print(\"Sales_Hat = %f + %f * TV + %f * Radio %f * Newspaper\" \n",
    "      %(linreg.intercept_, linreg.coef_[0], linreg.coef_[1], linreg.coef_[2]))\n"
   ]
  },
  {
   "cell_type": "markdown",
   "metadata": {},
   "source": [
    "#### In our today's lecture we learned that we do need to check p-values to make sure our regression coefficients are significant"
   ]
  },
  {
   "cell_type": "code",
   "execution_count": 48,
   "metadata": {
    "collapsed": false
   },
   "outputs": [
    {
     "name": "stdout",
     "output_type": "stream",
     "text": [
      "[  1.28688630e-41   5.98974315e-19   1.88449153e-03]\n"
     ]
    }
   ],
   "source": [
    "from sklearn import feature_selection\n",
    "pvals = feature_selection.f_regression(X,y)[1] #That's how we extract p-values\n",
    "print(pvals)"
   ]
  },
  {
   "cell_type": "markdown",
   "metadata": {},
   "source": [
    "** Unfortunately, sometimes p-values from feature_selection libraray are not reliable **"
   ]
  },
  {
   "cell_type": "markdown",
   "metadata": {},
   "source": [
    "#### When you have too many varaibles, it's hard to know which p-value corresponds to which varaible. One way to deal with it is to \"zip\" name of variables and pvalues "
   ]
  },
  {
   "cell_type": "code",
   "execution_count": 49,
   "metadata": {
    "collapsed": false
   },
   "outputs": [
    {
     "data": {
      "text/plain": [
       "[('TV', 1.2868863011306236e-41),\n",
       " ('Radio', 5.9897431525461289e-19),\n",
       " ('Newspaper', 0.0018844915271769326)]"
      ]
     },
     "execution_count": 49,
     "metadata": {},
     "output_type": "execute_result"
    }
   ],
   "source": [
    "zip(ListOfAllVariables[0:3],pvals)"
   ]
  },
  {
   "cell_type": "markdown",
   "metadata": {},
   "source": [
    "(e-41) means 10 to the power of -41, in other words forty one **zeros** after decimal points. 'TV' and 'Radio' are very significant **of course if we could trust these p-values**. 'Newspaper' is also significant but for two reasons we better drop it from our dataset:\n",
    "\n",
    "First, look at the magnitude of the variable. It's effect is very close to zero. Second, by looking at corr() matrix we used last time we found that 'Newspaper' is linearly correlated with some of the other variables. In essense, if we  would like to use the model for its interpretability, we shall not keep both 'Newspaper' and 'Radio' simoltanously. 'Radio' is a better predictor and has a lower p-value - so we keep that variable.  \n",
    "\n",
    "** Unfortunately, there is something wrong with the way  p-values are computed in feature_selection library**. "
   ]
  },
  {
   "cell_type": "markdown",
   "metadata": {},
   "source": [
    "## How much of the variability of our model was captured by our linear model?"
   ]
  },
  {
   "cell_type": "markdown",
   "metadata": {},
   "source": [
    "This is the definition of **R_Squared**. Let's first calculate it = this is the hard way!"
   ]
  },
  {
   "cell_type": "code",
   "execution_count": 50,
   "metadata": {
    "collapsed": false
   },
   "outputs": [
    {
     "name": "stdout",
     "output_type": "stream",
     "text": [
      "0.895391718302\n"
     ]
    }
   ],
   "source": [
    "RSS = sum((y-linreg.predict(X))**2) #Residual sum square\n",
    "TSS = sum((y-y.mean())**2)\n",
    "R_Squared = 1 - float(RSS)/TSS\n",
    "print(R_Squared)"
   ]
  },
  {
   "cell_type": "markdown",
   "metadata": {},
   "source": [
    "Now let's find R_Squared using a python function"
   ]
  },
  {
   "cell_type": "code",
   "execution_count": 51,
   "metadata": {
    "collapsed": false
   },
   "outputs": [
    {
     "data": {
      "text/plain": [
       "0.89539171830247521"
      ]
     },
     "execution_count": 51,
     "metadata": {},
     "output_type": "execute_result"
    }
   ],
   "source": [
    "linreg.score(X,y)"
   ]
  },
  {
   "cell_type": "markdown",
   "metadata": {},
   "source": [
    "## There was one way to run regression lines and see everything at the same place and more importantly get reliable p-values. We technically use R commands in Python! Sorry Python!"
   ]
  },
  {
   "cell_type": "code",
   "execution_count": 52,
   "metadata": {
    "collapsed": false
   },
   "outputs": [
    {
     "data": {
      "text/html": [
       "<table class=\"simpletable\">\n",
       "<caption>OLS Regression Results</caption>\n",
       "<tr>\n",
       "  <th>Dep. Variable:</th>            <td>y</td>        <th>  R-squared:         </th> <td>   0.895</td>\n",
       "</tr>\n",
       "<tr>\n",
       "  <th>Model:</th>                   <td>OLS</td>       <th>  Adj. R-squared:    </th> <td>   0.894</td>\n",
       "</tr>\n",
       "<tr>\n",
       "  <th>Method:</th>             <td>Least Squares</td>  <th>  F-statistic:       </th> <td>   553.5</td>\n",
       "</tr>\n",
       "<tr>\n",
       "  <th>Date:</th>             <td>Thu, 23 Jun 2016</td> <th>  Prob (F-statistic):</th> <td>8.35e-95</td>\n",
       "</tr>\n",
       "<tr>\n",
       "  <th>Time:</th>                 <td>22:53:56</td>     <th>  Log-Likelihood:    </th> <td> -383.24</td>\n",
       "</tr>\n",
       "<tr>\n",
       "  <th>No. Observations:</th>      <td>   198</td>      <th>  AIC:               </th> <td>   774.5</td>\n",
       "</tr>\n",
       "<tr>\n",
       "  <th>Df Residuals:</th>          <td>   194</td>      <th>  BIC:               </th> <td>   787.6</td>\n",
       "</tr>\n",
       "<tr>\n",
       "  <th>Df Model:</th>              <td>     3</td>      <th>                     </th>     <td> </td>   \n",
       "</tr>\n",
       "<tr>\n",
       "  <th>Covariance Type:</th>      <td>nonrobust</td>    <th>                     </th>     <td> </td>   \n",
       "</tr>\n",
       "</table>\n",
       "<table class=\"simpletable\">\n",
       "<tr>\n",
       "      <td></td>         <th>coef</th>     <th>std err</th>      <th>t</th>      <th>P>|t|</th> <th>[95.0% Conf. Int.]</th> \n",
       "</tr>\n",
       "<tr>\n",
       "  <th>Intercept</th> <td>    2.9523</td> <td>    0.318</td> <td>    9.280</td> <td> 0.000</td> <td>    2.325     3.580</td>\n",
       "</tr>\n",
       "<tr>\n",
       "  <th>X[0]</th>      <td>    0.0457</td> <td>    0.001</td> <td>   32.293</td> <td> 0.000</td> <td>    0.043     0.048</td>\n",
       "</tr>\n",
       "<tr>\n",
       "  <th>X[1]</th>      <td>    0.1886</td> <td>    0.009</td> <td>   21.772</td> <td> 0.000</td> <td>    0.171     0.206</td>\n",
       "</tr>\n",
       "<tr>\n",
       "  <th>X[2]</th>      <td>   -0.0012</td> <td>    0.006</td> <td>   -0.187</td> <td> 0.852</td> <td>   -0.014     0.011</td>\n",
       "</tr>\n",
       "</table>\n",
       "<table class=\"simpletable\">\n",
       "<tr>\n",
       "  <th>Omnibus:</th>       <td>59.593</td> <th>  Durbin-Watson:     </th> <td>   2.041</td>\n",
       "</tr>\n",
       "<tr>\n",
       "  <th>Prob(Omnibus):</th> <td> 0.000</td> <th>  Jarque-Bera (JB):  </th> <td> 147.654</td>\n",
       "</tr>\n",
       "<tr>\n",
       "  <th>Skew:</th>          <td>-1.324</td> <th>  Prob(JB):          </th> <td>8.66e-33</td>\n",
       "</tr>\n",
       "<tr>\n",
       "  <th>Kurtosis:</th>      <td> 6.299</td> <th>  Cond. No.          </th> <td>    457.</td>\n",
       "</tr>\n",
       "</table>"
      ],
      "text/plain": [
       "<class 'statsmodels.iolib.summary.Summary'>\n",
       "\"\"\"\n",
       "                            OLS Regression Results                            \n",
       "==============================================================================\n",
       "Dep. Variable:                      y   R-squared:                       0.895\n",
       "Model:                            OLS   Adj. R-squared:                  0.894\n",
       "Method:                 Least Squares   F-statistic:                     553.5\n",
       "Date:                Thu, 23 Jun 2016   Prob (F-statistic):           8.35e-95\n",
       "Time:                        22:53:56   Log-Likelihood:                -383.24\n",
       "No. Observations:                 198   AIC:                             774.5\n",
       "Df Residuals:                     194   BIC:                             787.6\n",
       "Df Model:                           3                                         \n",
       "Covariance Type:            nonrobust                                         \n",
       "==============================================================================\n",
       "                 coef    std err          t      P>|t|      [95.0% Conf. Int.]\n",
       "------------------------------------------------------------------------------\n",
       "Intercept      2.9523      0.318      9.280      0.000         2.325     3.580\n",
       "X[0]           0.0457      0.001     32.293      0.000         0.043     0.048\n",
       "X[1]           0.1886      0.009     21.772      0.000         0.171     0.206\n",
       "X[2]          -0.0012      0.006     -0.187      0.852        -0.014     0.011\n",
       "==============================================================================\n",
       "Omnibus:                       59.593   Durbin-Watson:                   2.041\n",
       "Prob(Omnibus):                  0.000   Jarque-Bera (JB):              147.654\n",
       "Skew:                          -1.324   Prob(JB):                     8.66e-33\n",
       "Kurtosis:                       6.299   Cond. No.                         457.\n",
       "==============================================================================\n",
       "\n",
       "Warnings:\n",
       "[1] Standard Errors assume that the covariance matrix of the errors is correctly specified.\n",
       "\"\"\""
      ]
     },
     "execution_count": 52,
     "metadata": {},
     "output_type": "execute_result"
    }
   ],
   "source": [
    "import statsmodels.formula.api as smf\n",
    "lm = smf.ols(formula='y ~ X', data=AdData).fit()\n",
    "lm.summary()"
   ]
  },
  {
   "cell_type": "code",
   "execution_count": 53,
   "metadata": {
    "collapsed": false
   },
   "outputs": [
    {
     "name": "stdout",
     "output_type": "stream",
     "text": [
      "Intercept    3.417928e-17\n",
      "X[0]         5.715535e-80\n",
      "X[1]         5.535441e-54\n",
      "X[2]         8.517770e-01\n",
      "dtype: float64\n",
      "Intercept    2.952309\n",
      "X[0]         0.045690\n",
      "X[1]         0.188550\n",
      "X[2]        -0.001178\n",
      "dtype: float64\n",
      "0.895391718302\n"
     ]
    }
   ],
   "source": [
    "print(lm.pvalues) #P-values these are reliable p-values\n",
    "print(lm.params) #intercept + ceofficients\n",
    "print(lm.rsquared)"
   ]
  },
  {
   "cell_type": "code",
   "execution_count": 54,
   "metadata": {
    "collapsed": false
   },
   "outputs": [
    {
     "name": "stdout",
     "output_type": "stream",
     "text": [
      "('Coefficients:', [('TV', 0.045690341924579062), ('Radio', 0.18855046885810567), ('Newspaper', -0.0011776635581810108)])\n",
      "('P-Vales: ', [('TV', 5.7155352150916457e-80), ('Radio', 5.5354408731511653e-54), ('Newspaper', 0.85177703085886469)])\n"
     ]
    }
   ],
   "source": [
    "print(\"Coefficients:\" , zip(ListOfAllVariables[0:3], lm.params[1:4]))\n",
    "print(\"P-Vales: \", zip(ListOfAllVariables[0:3], lm.pvalues[1:4]))"
   ]
  },
  {
   "cell_type": "markdown",
   "metadata": {},
   "source": [
    "# Now let's go back to our ad buisness and use Radio and TV as input variables. "
   ]
  },
  {
   "cell_type": "code",
   "execution_count": 55,
   "metadata": {
    "collapsed": false
   },
   "outputs": [
    {
     "name": "stdout",
     "output_type": "stream",
     "text": [
      "2.93147585094\n",
      "[ 0.04568137  0.18799199]\n"
     ]
    }
   ],
   "source": [
    "X = AdData[['TV','Radio']]\n",
    "y= AdData['Sales']\n",
    "linreg.fit(X,y)\n",
    "print(linreg.intercept_)\n",
    "print(linreg.coef_)"
   ]
  },
  {
   "cell_type": "markdown",
   "metadata": {},
   "source": [
    "Our linear regression model is:\n",
    "\n",
    "Sales_hat = 2.93147 + 0.045681*TV + 0.18799*Radio\n",
    "\n",
    "In our data set - keeping everything else fixed - every 1000 dollars expenditure on TV ads on average contributed to 45.68 units of Sales and every 1000 dollars expenditure on Radio, contributed 188 units to Sales. Does it mean Radio ads contribute to Sales more than TV ads? (DON'T JUMP INTO CONCLUSIONS THAT FAST)\n",
    "\n",
    "Again, please be careful, we are not suggesting causation. Moreover, we assumed everything is fixed when interpreted TV and Radio ads. In reality, companies who spend on TV ads tend to also spend on other means of ad. "
   ]
  },
  {
   "cell_type": "markdown",
   "metadata": {},
   "source": [
    "First of all, we just observed that in comparison to TV ads, only little has been spent on Radio ads. Median expenditure on TV ads is 7 times more than Radio ads. Second, may be only those companies who spend a lot in TV are interested in spending money in Radio ads. Let's explore it with a scatterplot. "
   ]
  },
  {
   "cell_type": "code",
   "execution_count": 56,
   "metadata": {
    "collapsed": false
   },
   "outputs": [
    {
     "data": {
      "image/png": "[encoded data removed]",
      "text/plain": [
       "<matplotlib.figure.Figure at 0x11bea2950>"
      ]
     },
     "metadata": {},
     "output_type": "display_data"
    }
   ],
   "source": [
    "AdData.plot(kind= 'scatter', x = 'TV',y = 'Radio')\n",
    "plt.show()"
   ]
  },
  {
   "cell_type": "markdown",
   "metadata": {},
   "source": [
    "Fortunately, the scatter plot does not suggest that much of association between TV ads and Radio ads. That's good! Actually, corr() matrix suggested that there were no linear relationship. "
   ]
  },
  {
   "cell_type": "markdown",
   "metadata": {},
   "source": [
    "So, how can we interpret the result?\n",
    "\n",
    "May be there is synergy between TV and Radio. In other words, may be, Radio ads are effective only if we have spent enough in TV and visa-versa. In marketing, it is being said that an ad is effective if a potential customer is exposed to it at least 5 times. So, synergy effect is yet to be tested! This is what we are going to explore now. "
   ]
  },
  {
   "cell_type": "markdown",
   "metadata": {},
   "source": [
    "#### Now let's explore the synergy effect"
   ]
  },
  {
   "cell_type": "markdown",
   "metadata": {},
   "source": [
    "We first need to define a new variable that captures the synergy effect. Let's call our new variable \"Radio_TV\". This variable is Radio*TV"
   ]
  },
  {
   "cell_type": "code",
   "execution_count": 57,
   "metadata": {
    "collapsed": false
   },
   "outputs": [
    {
     "data": {
      "text/html": [
       "<div>\n",
       "<table border=\"1\" class=\"dataframe\">\n",
       "  <thead>\n",
       "    <tr style=\"text-align: right;\">\n",
       "      <th></th>\n",
       "      <th>TV</th>\n",
       "      <th>Radio</th>\n",
       "      <th>Newspaper</th>\n",
       "      <th>Sales</th>\n",
       "      <th>Radio_TV</th>\n",
       "    </tr>\n",
       "  </thead>\n",
       "  <tbody>\n",
       "    <tr>\n",
       "      <th>0</th>\n",
       "      <td>230.1</td>\n",
       "      <td>37.8</td>\n",
       "      <td>69.2</td>\n",
       "      <td>22.1</td>\n",
       "      <td>8697.78</td>\n",
       "    </tr>\n",
       "    <tr>\n",
       "      <th>1</th>\n",
       "      <td>44.5</td>\n",
       "      <td>39.3</td>\n",
       "      <td>45.1</td>\n",
       "      <td>10.4</td>\n",
       "      <td>1748.85</td>\n",
       "    </tr>\n",
       "  </tbody>\n",
       "</table>\n",
       "</div>"
      ],
      "text/plain": [
       "      TV  Radio  Newspaper  Sales  Radio_TV\n",
       "0  230.1   37.8       69.2   22.1   8697.78\n",
       "1   44.5   39.3       45.1   10.4   1748.85"
      ]
     },
     "execution_count": 57,
     "metadata": {},
     "output_type": "execute_result"
    }
   ],
   "source": [
    "AdData['Radio_TV'] = AdData['Radio'] * AdData['TV']\n",
    "AdData.head(2)"
   ]
  },
  {
   "cell_type": "code",
   "execution_count": 58,
   "metadata": {
    "collapsed": false
   },
   "outputs": [],
   "source": [
    "X = AdData[['TV','Radio','Radio_TV']]\n",
    "y = AdData['Sales']"
   ]
  },
  {
   "cell_type": "code",
   "execution_count": 59,
   "metadata": {
    "collapsed": false
   },
   "outputs": [
    {
     "name": "stdout",
     "output_type": "stream",
     "text": [
      "('Intercept =', 6.7576750919729793)\n",
      "('coefficients =', array([ 0.01904597,  0.02759604,  0.00109608]))\n",
      "('P-Values = ', Intercept    2.246821e-68\n",
      "X[0]         3.106794e-27\n",
      "X[1]         2.302880e-03\n",
      "X[2]         2.484512e-51\n",
      "dtype: float64)\n",
      "('R_Squared = ', 0.96764530289443418)\n"
     ]
    }
   ],
   "source": [
    "linreg.fit(X,y)\n",
    "lm = smf.ols(formula='y ~ X', data=AdData).fit()\n",
    "R_Squared = linreg.score(X,y)\n",
    "print('Intercept =' ,linreg.intercept_)\n",
    "print('coefficients =' ,linreg.coef_)\n",
    "print('P-Values = ',lm.pvalues)\n",
    "print('R_Squared = ', R_Squared)"
   ]
  },
  {
   "cell_type": "code",
   "execution_count": null,
   "metadata": {
    "collapsed": true
   },
   "outputs": [],
   "source": []
  },
  {
   "cell_type": "markdown",
   "metadata": {},
   "source": [
    "Look how significant our coefficients are! Our new regression line is:\n",
    "\n",
    "Sales_hat = 6.7576 + 0.01904597 * TV + 0.02759604 * Radio + 0.0011 * Radio * TV\n",
    "\n",
    "Now, let's interpret our results:\n",
    "\n",
    "The coefficient estimates suggest that an increase in TV advertising of 1000 dollars is associated with increased sales of: (0.019 + 0.0011 * Radio) * 1000 = 19 + 1.1 Radio  units. In other words, if you have already spent 2000 dollars in Radio Ads, the effect of adding  1000 dollars in TV ads is 19+1.1 * 2 = 21.2 units. The effect would have been significantly more if you had invested 10000 dollars in radio. In that case, additional 1000 dollars expenditure on TV ads contributes  to additional 19 + 1.1 * 10 = 30 units of sale.\n",
    "\n",
    "Also, for radio, an increase in radio advertising of 1000 dollars will be associated with increase in sales of (0.02759 + 0.0011 * TV) * 1000 = 27.5 + 1.1 * TV . \n",
    "\n",
    "Don't forget that these arguments are only valid within the range of observed data. "
   ]
  },
  {
   "cell_type": "code",
   "execution_count": null,
   "metadata": {
    "collapsed": true
   },
   "outputs": [],
   "source": []
  },
  {
   "cell_type": "code",
   "execution_count": null,
   "metadata": {
    "collapsed": true
   },
   "outputs": [],
   "source": []
  },
  {
   "cell_type": "code",
   "execution_count": null,
   "metadata": {
    "collapsed": true
   },
   "outputs": [],
   "source": []
  },
  {
   "cell_type": "code",
   "execution_count": null,
   "metadata": {
    "collapsed": true
   },
   "outputs": [],
   "source": []
  }
 ],
 "metadata": {
  "kernelspec": {
   "display_name": "Python 2",
   "language": "python",
   "name": "python2"
  },
  "language_info": {
   "codemirror_mode": {
    "name": "ipython",
    "version": 2
   },
   "file_extension": ".py",
   "mimetype": "text/x-python",
   "name": "python",
   "nbconvert_exporter": "python",
   "pygments_lexer": "ipython2",
   "version": "2.7.11"
  }
 },
 "nbformat": 4,
 "nbformat_minor": 0
}
