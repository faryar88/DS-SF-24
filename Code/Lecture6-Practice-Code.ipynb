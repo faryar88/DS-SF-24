{
 "cells": [
  {
   "cell_type": "markdown",
   "metadata": {},
   "source": [
    "In this practice code, we are going to use Ozone dataset. Dictionary of this dataset can be found in https://stat.ethz.ch/R-manual/R-devel/library/datasets/html/airquality.html"
   ]
  },
  {
   "cell_type": "code",
   "execution_count": 1,
   "metadata": {
    "collapsed": true
   },
   "outputs": [],
   "source": [
    "import pandas as pd\n",
    "import numpy as np\n",
    "from sklearn.linear_model import LinearRegression\n",
    "import statsmodels.formula.api as smf"
   ]
  },
  {
   "cell_type": "code",
   "execution_count": 2,
   "metadata": {
    "collapsed": true
   },
   "outputs": [],
   "source": [
    "url = \"https://raw.githubusercontent.com/ga-students/DS-SF-24/master/Data/ozone.csv\"\n",
    "OzoneData = pd.read_csv(url)\n",
    "OzoneData.describe()"
   ]
  },
  {
   "cell_type": "markdown",
   "metadata": {},
   "source": [
    "#### Explore the dataset and decide which variables suffer from missing data"
   ]
  },
  {
   "cell_type": "code",
   "execution_count": 7,
   "metadata": {
    "collapsed": false
   },
   "outputs": [
    {
     "data": {
      "text/html": [
       "<div>\n",
       "<table border=\"1\" class=\"dataframe\">\n",
       "  <thead>\n",
       "    <tr style=\"text-align: right;\">\n",
       "      <th></th>\n",
       "      <th>Ozone</th>\n",
       "      <th>Solar.R</th>\n",
       "      <th>Wind</th>\n",
       "      <th>Temp</th>\n",
       "      <th>Month</th>\n",
       "      <th>Day</th>\n",
       "    </tr>\n",
       "  </thead>\n",
       "  <tbody>\n",
       "    <tr>\n",
       "      <th>0</th>\n",
       "      <td>41.0</td>\n",
       "      <td>190.0</td>\n",
       "      <td>7.4</td>\n",
       "      <td>67</td>\n",
       "      <td>5</td>\n",
       "      <td>1</td>\n",
       "    </tr>\n",
       "    <tr>\n",
       "      <th>1</th>\n",
       "      <td>36.0</td>\n",
       "      <td>118.0</td>\n",
       "      <td>8.0</td>\n",
       "      <td>72</td>\n",
       "      <td>5</td>\n",
       "      <td>2</td>\n",
       "    </tr>\n",
       "    <tr>\n",
       "      <th>2</th>\n",
       "      <td>12.0</td>\n",
       "      <td>149.0</td>\n",
       "      <td>12.6</td>\n",
       "      <td>74</td>\n",
       "      <td>5</td>\n",
       "      <td>3</td>\n",
       "    </tr>\n",
       "    <tr>\n",
       "      <th>3</th>\n",
       "      <td>18.0</td>\n",
       "      <td>313.0</td>\n",
       "      <td>11.5</td>\n",
       "      <td>62</td>\n",
       "      <td>5</td>\n",
       "      <td>4</td>\n",
       "    </tr>\n",
       "    <tr>\n",
       "      <th>4</th>\n",
       "      <td>NaN</td>\n",
       "      <td>NaN</td>\n",
       "      <td>14.3</td>\n",
       "      <td>56</td>\n",
       "      <td>5</td>\n",
       "      <td>5</td>\n",
       "    </tr>\n",
       "  </tbody>\n",
       "</table>\n",
       "</div>"
      ],
      "text/plain": [
       "   Ozone  Solar.R  Wind  Temp  Month  Day\n",
       "0   41.0    190.0   7.4    67      5    1\n",
       "1   36.0    118.0   8.0    72      5    2\n",
       "2   12.0    149.0  12.6    74      5    3\n",
       "3   18.0    313.0  11.5    62      5    4\n",
       "4    NaN      NaN  14.3    56      5    5"
      ]
     },
     "execution_count": 7,
     "metadata": {},
     "output_type": "execute_result"
    }
   ],
   "source": [
    "OzoneData.head()"
   ]
  },
  {
   "cell_type": "markdown",
   "metadata": {},
   "source": [
    "Answer: Ozone & Solar.R"
   ]
  },
  {
   "cell_type": "markdown",
   "metadata": {},
   "source": [
    "#### Let's drop rows that have missing values in all the columns you indentified above\n",
    "\n",
    "Hint: in dropna() if you set how = 'all', it will only drop columns that are suffering from missing values at all varaibles you introduce in subset. If you want to get rid of the row that contains missing values in any of the variables you specify, then you shall set how = 'any'\n",
    "\n",
    "df.dropna(how = 'all',subset = ['Var1','Var2','Var3'],inplace = True)\n",
    "\n",
    "The above code will check if all 3 variables specified in df have missing values, if they all have missing values it will drop that row."
   ]
  },
  {
   "cell_type": "code",
   "execution_count": 8,
   "metadata": {
    "collapsed": false
   },
   "outputs": [],
   "source": [
    "OzoneData.dropna(how = 'all', subset = ['Ozone', 'Solar.R'], inplace = True)"
   ]
  },
  {
   "cell_type": "code",
   "execution_count": 12,
   "metadata": {
    "collapsed": false,
    "scrolled": true
   },
   "outputs": [
    {
     "data": {
      "text/plain": [
       "151"
      ]
     },
     "execution_count": 12,
     "metadata": {},
     "output_type": "execute_result"
    }
   ],
   "source": [
    "len(OzoneData)"
   ]
  },
  {
   "cell_type": "markdown",
   "metadata": {},
   "source": [
    "#### Spoiler! If everything is going according to plan you shall be left by 151 observations. Also, it seemed like the first two varibales had missing values. Now please make a copy of your dataframe into a dataframe named OzoneImputeMean. Also, please use mean of the variables to fill in missing values in OzoneImputeMean"
   ]
  },
  {
   "cell_type": "code",
   "execution_count": 19,
   "metadata": {
    "collapsed": false
   },
   "outputs": [],
   "source": [
    "OzoneImputeMean = OzoneData\n",
    "OzoneImputeMean.Ozone.fillna(value = np.mean(OzoneImputeMean.Ozone), inplace = True)\n",
    "OzoneImputeMean['Solar.R'].fillna(value = np.mean(OzoneImputeMean['Solar.R']), inplace = True)"
   ]
  },
  {
   "cell_type": "code",
   "execution_count": 18,
   "metadata": {
    "collapsed": false
   },
   "outputs": [
    {
     "data": {
      "text/html": [
       "<div>\n",
       "<table border=\"1\" class=\"dataframe\">\n",
       "  <thead>\n",
       "    <tr style=\"text-align: right;\">\n",
       "      <th></th>\n",
       "      <th>Ozone</th>\n",
       "      <th>Solar.R</th>\n",
       "      <th>Wind</th>\n",
       "      <th>Temp</th>\n",
       "      <th>Month</th>\n",
       "      <th>Day</th>\n",
       "    </tr>\n",
       "  </thead>\n",
       "  <tbody>\n",
       "    <tr>\n",
       "      <th>0</th>\n",
       "      <td>41.0</td>\n",
       "      <td>190.000000</td>\n",
       "      <td>7.4</td>\n",
       "      <td>67</td>\n",
       "      <td>5</td>\n",
       "      <td>1</td>\n",
       "    </tr>\n",
       "    <tr>\n",
       "      <th>1</th>\n",
       "      <td>36.0</td>\n",
       "      <td>118.000000</td>\n",
       "      <td>8.0</td>\n",
       "      <td>72</td>\n",
       "      <td>5</td>\n",
       "      <td>2</td>\n",
       "    </tr>\n",
       "    <tr>\n",
       "      <th>2</th>\n",
       "      <td>12.0</td>\n",
       "      <td>149.000000</td>\n",
       "      <td>12.6</td>\n",
       "      <td>74</td>\n",
       "      <td>5</td>\n",
       "      <td>3</td>\n",
       "    </tr>\n",
       "    <tr>\n",
       "      <th>3</th>\n",
       "      <td>18.0</td>\n",
       "      <td>313.000000</td>\n",
       "      <td>11.5</td>\n",
       "      <td>62</td>\n",
       "      <td>5</td>\n",
       "      <td>4</td>\n",
       "    </tr>\n",
       "    <tr>\n",
       "      <th>5</th>\n",
       "      <td>28.0</td>\n",
       "      <td>185.931507</td>\n",
       "      <td>14.9</td>\n",
       "      <td>66</td>\n",
       "      <td>5</td>\n",
       "      <td>6</td>\n",
       "    </tr>\n",
       "  </tbody>\n",
       "</table>\n",
       "</div>"
      ],
      "text/plain": [
       "   Ozone     Solar.R  Wind  Temp  Month  Day\n",
       "0   41.0  190.000000   7.4    67      5    1\n",
       "1   36.0  118.000000   8.0    72      5    2\n",
       "2   12.0  149.000000  12.6    74      5    3\n",
       "3   18.0  313.000000  11.5    62      5    4\n",
       "5   28.0  185.931507  14.9    66      5    6"
      ]
     },
     "execution_count": 18,
     "metadata": {},
     "output_type": "execute_result"
    }
   ],
   "source": [
    "#Check if missing values are filled\n",
    "OzoneImputeMean.head()"
   ]
  },
  {
   "cell_type": "markdown",
   "metadata": {},
   "source": [
    "#### Now it's time for imputing using linear regression lines"
   ]
  },
  {
   "cell_type": "code",
   "execution_count": 20,
   "metadata": {
    "collapsed": false
   },
   "outputs": [
    {
     "data": {
      "text/html": [
       "<div>\n",
       "<table border=\"1\" class=\"dataframe\">\n",
       "  <thead>\n",
       "    <tr style=\"text-align: right;\">\n",
       "      <th></th>\n",
       "      <th>Ozone</th>\n",
       "      <th>Solar.R</th>\n",
       "      <th>Wind</th>\n",
       "      <th>Temp</th>\n",
       "      <th>Month</th>\n",
       "      <th>Day</th>\n",
       "      <th>Month_5</th>\n",
       "      <th>Month_6</th>\n",
       "      <th>Month_7</th>\n",
       "      <th>Month_8</th>\n",
       "    </tr>\n",
       "  </thead>\n",
       "  <tbody>\n",
       "    <tr>\n",
       "      <th>0</th>\n",
       "      <td>41.0</td>\n",
       "      <td>190.000000</td>\n",
       "      <td>7.4</td>\n",
       "      <td>67</td>\n",
       "      <td>5</td>\n",
       "      <td>1</td>\n",
       "      <td>1.0</td>\n",
       "      <td>0.0</td>\n",
       "      <td>0.0</td>\n",
       "      <td>0.0</td>\n",
       "    </tr>\n",
       "    <tr>\n",
       "      <th>1</th>\n",
       "      <td>36.0</td>\n",
       "      <td>118.000000</td>\n",
       "      <td>8.0</td>\n",
       "      <td>72</td>\n",
       "      <td>5</td>\n",
       "      <td>2</td>\n",
       "      <td>1.0</td>\n",
       "      <td>0.0</td>\n",
       "      <td>0.0</td>\n",
       "      <td>0.0</td>\n",
       "    </tr>\n",
       "    <tr>\n",
       "      <th>2</th>\n",
       "      <td>12.0</td>\n",
       "      <td>149.000000</td>\n",
       "      <td>12.6</td>\n",
       "      <td>74</td>\n",
       "      <td>5</td>\n",
       "      <td>3</td>\n",
       "      <td>1.0</td>\n",
       "      <td>0.0</td>\n",
       "      <td>0.0</td>\n",
       "      <td>0.0</td>\n",
       "    </tr>\n",
       "    <tr>\n",
       "      <th>3</th>\n",
       "      <td>18.0</td>\n",
       "      <td>313.000000</td>\n",
       "      <td>11.5</td>\n",
       "      <td>62</td>\n",
       "      <td>5</td>\n",
       "      <td>4</td>\n",
       "      <td>1.0</td>\n",
       "      <td>0.0</td>\n",
       "      <td>0.0</td>\n",
       "      <td>0.0</td>\n",
       "    </tr>\n",
       "    <tr>\n",
       "      <th>5</th>\n",
       "      <td>28.0</td>\n",
       "      <td>185.931507</td>\n",
       "      <td>14.9</td>\n",
       "      <td>66</td>\n",
       "      <td>5</td>\n",
       "      <td>6</td>\n",
       "      <td>1.0</td>\n",
       "      <td>0.0</td>\n",
       "      <td>0.0</td>\n",
       "      <td>0.0</td>\n",
       "    </tr>\n",
       "  </tbody>\n",
       "</table>\n",
       "</div>"
      ],
      "text/plain": [
       "   Ozone     Solar.R  Wind  Temp  Month  Day  Month_5  Month_6  Month_7  \\\n",
       "0   41.0  190.000000   7.4    67      5    1      1.0      0.0      0.0   \n",
       "1   36.0  118.000000   8.0    72      5    2      1.0      0.0      0.0   \n",
       "2   12.0  149.000000  12.6    74      5    3      1.0      0.0      0.0   \n",
       "3   18.0  313.000000  11.5    62      5    4      1.0      0.0      0.0   \n",
       "5   28.0  185.931507  14.9    66      5    6      1.0      0.0      0.0   \n",
       "\n",
       "   Month_8  \n",
       "0      0.0  \n",
       "1      0.0  \n",
       "2      0.0  \n",
       "3      0.0  \n",
       "5      0.0  "
      ]
     },
     "execution_count": 20,
     "metadata": {},
     "output_type": "execute_result"
    }
   ],
   "source": [
    "#### Before we start let's define dummy variables for variable Month - don't worry about day!\n",
    "\n",
    "MonthDummy = pd.get_dummies(OzoneData.Month, prefix = 'Month')\n",
    "del MonthDummy['Month_9']\n",
    "\n",
    "OzoneData = pd.concat([OzoneData, MonthDummy], axis=1)\n",
    "\n",
    "OzoneData.head()"
   ]
  },
  {
   "cell_type": "code",
   "execution_count": 21,
   "metadata": {
    "collapsed": false
   },
   "outputs": [
    {
     "data": {
      "text/html": [
       "<div>\n",
       "<table border=\"1\" class=\"dataframe\">\n",
       "  <thead>\n",
       "    <tr style=\"text-align: right;\">\n",
       "      <th></th>\n",
       "      <th>Ozone</th>\n",
       "      <th>Solar.R</th>\n",
       "      <th>Wind</th>\n",
       "      <th>Temp</th>\n",
       "      <th>Month</th>\n",
       "      <th>Day</th>\n",
       "      <th>Month_5</th>\n",
       "      <th>Month_6</th>\n",
       "      <th>Month_7</th>\n",
       "      <th>Month_8</th>\n",
       "    </tr>\n",
       "  </thead>\n",
       "  <tbody>\n",
       "    <tr>\n",
       "      <th>Ozone</th>\n",
       "      <td>1.000000</td>\n",
       "      <td>0.302970</td>\n",
       "      <td>-0.534163</td>\n",
       "      <td>0.630583</td>\n",
       "      <td>0.151089</td>\n",
       "      <td>-0.011472</td>\n",
       "      <td>-0.281111</td>\n",
       "      <td>-0.065820</td>\n",
       "      <td>0.251524</td>\n",
       "      <td>0.264054</td>\n",
       "    </tr>\n",
       "    <tr>\n",
       "      <th>Solar.R</th>\n",
       "      <td>0.302970</td>\n",
       "      <td>1.000000</td>\n",
       "      <td>-0.055581</td>\n",
       "      <td>0.271990</td>\n",
       "      <td>-0.073886</td>\n",
       "      <td>-0.147120</td>\n",
       "      <td>-0.023842</td>\n",
       "      <td>0.023896</td>\n",
       "      <td>0.175960</td>\n",
       "      <td>-0.073214</td>\n",
       "    </tr>\n",
       "    <tr>\n",
       "      <th>Wind</th>\n",
       "      <td>-0.534163</td>\n",
       "      <td>-0.055581</td>\n",
       "      <td>1.000000</td>\n",
       "      <td>-0.466032</td>\n",
       "      <td>-0.175317</td>\n",
       "      <td>0.042365</td>\n",
       "      <td>0.237781</td>\n",
       "      <td>0.046054</td>\n",
       "      <td>-0.144638</td>\n",
       "      <td>-0.166105</td>\n",
       "    </tr>\n",
       "    <tr>\n",
       "      <th>Temp</th>\n",
       "      <td>0.630583</td>\n",
       "      <td>0.271990</td>\n",
       "      <td>-0.466032</td>\n",
       "      <td>1.000000</td>\n",
       "      <td>0.397427</td>\n",
       "      <td>-0.136876</td>\n",
       "      <td>-0.637816</td>\n",
       "      <td>0.050753</td>\n",
       "      <td>0.318103</td>\n",
       "      <td>0.321680</td>\n",
       "    </tr>\n",
       "    <tr>\n",
       "      <th>Month</th>\n",
       "      <td>0.151089</td>\n",
       "      <td>-0.073886</td>\n",
       "      <td>-0.175317</td>\n",
       "      <td>0.397427</td>\n",
       "      <td>1.000000</td>\n",
       "      <td>-0.007727</td>\n",
       "      <td>-0.702257</td>\n",
       "      <td>-0.362131</td>\n",
       "      <td>-0.007201</td>\n",
       "      <td>0.355246</td>\n",
       "    </tr>\n",
       "    <tr>\n",
       "      <th>Day</th>\n",
       "      <td>-0.011472</td>\n",
       "      <td>-0.147120</td>\n",
       "      <td>0.042365</td>\n",
       "      <td>-0.136876</td>\n",
       "      <td>-0.007727</td>\n",
       "      <td>1.000000</td>\n",
       "      <td>0.011003</td>\n",
       "      <td>-0.017044</td>\n",
       "      <td>0.011471</td>\n",
       "      <td>0.011471</td>\n",
       "    </tr>\n",
       "    <tr>\n",
       "      <th>Month_5</th>\n",
       "      <td>-0.281111</td>\n",
       "      <td>-0.023842</td>\n",
       "      <td>0.237781</td>\n",
       "      <td>-0.637816</td>\n",
       "      <td>-0.702257</td>\n",
       "      <td>0.011003</td>\n",
       "      <td>1.000000</td>\n",
       "      <td>-0.242766</td>\n",
       "      <td>-0.247805</td>\n",
       "      <td>-0.247805</td>\n",
       "    </tr>\n",
       "    <tr>\n",
       "      <th>Month_6</th>\n",
       "      <td>-0.065820</td>\n",
       "      <td>0.023896</td>\n",
       "      <td>0.046054</td>\n",
       "      <td>0.050753</td>\n",
       "      <td>-0.362131</td>\n",
       "      <td>-0.017044</td>\n",
       "      <td>-0.242766</td>\n",
       "      <td>1.000000</td>\n",
       "      <td>-0.253080</td>\n",
       "      <td>-0.253080</td>\n",
       "    </tr>\n",
       "    <tr>\n",
       "      <th>Month_7</th>\n",
       "      <td>0.251524</td>\n",
       "      <td>0.175960</td>\n",
       "      <td>-0.144638</td>\n",
       "      <td>0.318103</td>\n",
       "      <td>-0.007201</td>\n",
       "      <td>0.011471</td>\n",
       "      <td>-0.247805</td>\n",
       "      <td>-0.253080</td>\n",
       "      <td>1.000000</td>\n",
       "      <td>-0.258333</td>\n",
       "    </tr>\n",
       "    <tr>\n",
       "      <th>Month_8</th>\n",
       "      <td>0.264054</td>\n",
       "      <td>-0.073214</td>\n",
       "      <td>-0.166105</td>\n",
       "      <td>0.321680</td>\n",
       "      <td>0.355246</td>\n",
       "      <td>0.011471</td>\n",
       "      <td>-0.247805</td>\n",
       "      <td>-0.253080</td>\n",
       "      <td>-0.258333</td>\n",
       "      <td>1.000000</td>\n",
       "    </tr>\n",
       "  </tbody>\n",
       "</table>\n",
       "</div>"
      ],
      "text/plain": [
       "            Ozone   Solar.R      Wind      Temp     Month       Day   Month_5  \\\n",
       "Ozone    1.000000  0.302970 -0.534163  0.630583  0.151089 -0.011472 -0.281111   \n",
       "Solar.R  0.302970  1.000000 -0.055581  0.271990 -0.073886 -0.147120 -0.023842   \n",
       "Wind    -0.534163 -0.055581  1.000000 -0.466032 -0.175317  0.042365  0.237781   \n",
       "Temp     0.630583  0.271990 -0.466032  1.000000  0.397427 -0.136876 -0.637816   \n",
       "Month    0.151089 -0.073886 -0.175317  0.397427  1.000000 -0.007727 -0.702257   \n",
       "Day     -0.011472 -0.147120  0.042365 -0.136876 -0.007727  1.000000  0.011003   \n",
       "Month_5 -0.281111 -0.023842  0.237781 -0.637816 -0.702257  0.011003  1.000000   \n",
       "Month_6 -0.065820  0.023896  0.046054  0.050753 -0.362131 -0.017044 -0.242766   \n",
       "Month_7  0.251524  0.175960 -0.144638  0.318103 -0.007201  0.011471 -0.247805   \n",
       "Month_8  0.264054 -0.073214 -0.166105  0.321680  0.355246  0.011471 -0.247805   \n",
       "\n",
       "          Month_6   Month_7   Month_8  \n",
       "Ozone   -0.065820  0.251524  0.264054  \n",
       "Solar.R  0.023896  0.175960 -0.073214  \n",
       "Wind     0.046054 -0.144638 -0.166105  \n",
       "Temp     0.050753  0.318103  0.321680  \n",
       "Month   -0.362131 -0.007201  0.355246  \n",
       "Day     -0.017044  0.011471  0.011471  \n",
       "Month_5 -0.242766 -0.247805 -0.247805  \n",
       "Month_6  1.000000 -0.253080 -0.253080  \n",
       "Month_7 -0.253080  1.000000 -0.258333  \n",
       "Month_8 -0.253080 -0.258333  1.000000  "
      ]
     },
     "execution_count": 21,
     "metadata": {},
     "output_type": "execute_result"
    }
   ],
   "source": [
    "#now let's explore correlation Matrix\n",
    "OzoneData.corr()"
   ]
  },
  {
   "cell_type": "markdown",
   "metadata": {},
   "source": [
    "#### What seems to be the list of best variables can define Ozone? how about Solar.R?"
   ]
  },
  {
   "cell_type": "markdown",
   "metadata": {},
   "source": [
    "Answer: Ozone => Temp, Solar.R => Ozone "
   ]
  },
  {
   "cell_type": "markdown",
   "metadata": {
    "collapsed": false
   },
   "source": [
    "#### Now let's use a regression model to predict Ozone. First drop NaN values in Ozone and save it in OzoneDroppedValues_Ozone. Then run a regression line on variables of interest and check significancy of your model if in a multi class dummy variable case, you see only a few of the dummy variables are not significant but the majority are,  you shall either drop all or keep all. Otherwise, selecting the base dummy will become important use these variables ['Solar.R','Wind','Temp','Month_5','Month_6','Month_7','Month_8'] to predict.\n"
   ]
  },
  {
   "cell_type": "code",
   "execution_count": 33,
   "metadata": {
    "collapsed": false
   },
   "outputs": [
    {
     "name": "stdout",
     "output_type": "stream",
     "text": [
      "Intercept    0.0\n",
      "X1[0]        0.0\n",
      "X1[1]        0.0\n",
      "X1[2]        0.0\n",
      "X1[3]        0.0\n",
      "X1[4]        0.0\n",
      "X1[5]        0.0\n",
      "X1[6]        0.0\n",
      "dtype: float64\n"
     ]
    }
   ],
   "source": [
    "OzoneDroppedValues_Ozone = OzoneData.dropna(subset = ['Ozone'])\n",
    "X1 = OzoneDroppedValues_Ozone[['Solar.R', 'Wind', 'Temp', 'Month_5', 'Month_6', 'Month_7', 'Month_8']]\n",
    "y1 = OzoneDroppedValues_Ozone['Ozone']\n",
    "lm1 = smf.ols(formula = 'y1 ~ X1', data = OzoneDroppedValues_Ozone).fit()\n",
    "print(lm1.pvalues)"
   ]
  },
  {
   "cell_type": "code",
   "execution_count": 34,
   "metadata": {
    "collapsed": false
   },
   "outputs": [
    {
     "data": {
      "text/html": [
       "<div>\n",
       "<table border=\"1\" class=\"dataframe\">\n",
       "  <thead>\n",
       "    <tr style=\"text-align: right;\">\n",
       "      <th></th>\n",
       "      <th>Ozone</th>\n",
       "      <th>Solar.R</th>\n",
       "      <th>Wind</th>\n",
       "      <th>Temp</th>\n",
       "      <th>Month</th>\n",
       "      <th>Day</th>\n",
       "      <th>Month_5</th>\n",
       "      <th>Month_6</th>\n",
       "      <th>Month_7</th>\n",
       "      <th>Month_8</th>\n",
       "    </tr>\n",
       "  </thead>\n",
       "  <tbody>\n",
       "    <tr>\n",
       "      <th>0</th>\n",
       "      <td>37.902359</td>\n",
       "      <td>190.000000</td>\n",
       "      <td>7.4</td>\n",
       "      <td>67</td>\n",
       "      <td>5</td>\n",
       "      <td>1</td>\n",
       "      <td>1.0</td>\n",
       "      <td>0.0</td>\n",
       "      <td>0.0</td>\n",
       "      <td>0.0</td>\n",
       "    </tr>\n",
       "    <tr>\n",
       "      <th>1</th>\n",
       "      <td>39.985348</td>\n",
       "      <td>118.000000</td>\n",
       "      <td>8.0</td>\n",
       "      <td>72</td>\n",
       "      <td>5</td>\n",
       "      <td>2</td>\n",
       "      <td>1.0</td>\n",
       "      <td>0.0</td>\n",
       "      <td>0.0</td>\n",
       "      <td>0.0</td>\n",
       "    </tr>\n",
       "    <tr>\n",
       "      <th>2</th>\n",
       "      <td>32.795274</td>\n",
       "      <td>149.000000</td>\n",
       "      <td>12.6</td>\n",
       "      <td>74</td>\n",
       "      <td>5</td>\n",
       "      <td>3</td>\n",
       "      <td>1.0</td>\n",
       "      <td>0.0</td>\n",
       "      <td>0.0</td>\n",
       "      <td>0.0</td>\n",
       "    </tr>\n",
       "    <tr>\n",
       "      <th>3</th>\n",
       "      <td>26.495151</td>\n",
       "      <td>313.000000</td>\n",
       "      <td>11.5</td>\n",
       "      <td>62</td>\n",
       "      <td>5</td>\n",
       "      <td>4</td>\n",
       "      <td>1.0</td>\n",
       "      <td>0.0</td>\n",
       "      <td>0.0</td>\n",
       "      <td>0.0</td>\n",
       "    </tr>\n",
       "    <tr>\n",
       "      <th>5</th>\n",
       "      <td>17.295052</td>\n",
       "      <td>185.931507</td>\n",
       "      <td>14.9</td>\n",
       "      <td>66</td>\n",
       "      <td>5</td>\n",
       "      <td>6</td>\n",
       "      <td>1.0</td>\n",
       "      <td>0.0</td>\n",
       "      <td>0.0</td>\n",
       "      <td>0.0</td>\n",
       "    </tr>\n",
       "  </tbody>\n",
       "</table>\n",
       "</div>"
      ],
      "text/plain": [
       "       Ozone     Solar.R  Wind  Temp  Month  Day  Month_5  Month_6  Month_7  \\\n",
       "0  37.902359  190.000000   7.4    67      5    1      1.0      0.0      0.0   \n",
       "1  39.985348  118.000000   8.0    72      5    2      1.0      0.0      0.0   \n",
       "2  32.795274  149.000000  12.6    74      5    3      1.0      0.0      0.0   \n",
       "3  26.495151  313.000000  11.5    62      5    4      1.0      0.0      0.0   \n",
       "5  17.295052  185.931507  14.9    66      5    6      1.0      0.0      0.0   \n",
       "\n",
       "   Month_8  \n",
       "0      0.0  \n",
       "1      0.0  \n",
       "2      0.0  \n",
       "3      0.0  \n",
       "5      0.0  "
      ]
     },
     "execution_count": 34,
     "metadata": {},
     "output_type": "execute_result"
    }
   ],
   "source": [
    "# now fill in null values of OzoneData['Ozone'] by predicted values\n",
    "lm = LinearRegression()\n",
    "\n",
    "lm.fit(X1, y1)\n",
    "\n",
    "X = OzoneDroppedValues_Ozone[['Solar.R', 'Wind', 'Temp', 'Month_5', 'Month_6', 'Month_7', 'Month_8']]\n",
    "\n",
    "OzoneData['Ozone'] = lm.predict(X)\n",
    "OzoneData['Ozone'].fillna(value = OzoneData['Ozone'], inplace = True)\n",
    "OzoneData.head()"
   ]
  },
  {
   "cell_type": "code",
   "execution_count": 25,
   "metadata": {
    "collapsed": false
   },
   "outputs": [
    {
     "name": "stdout",
     "output_type": "stream",
     "text": [
      "Intercept    0.740845\n",
      "X1[0]        0.007049\n",
      "X1[1]        0.055154\n",
      "X1[2]        0.090145\n",
      "dtype: float64\n"
     ]
    }
   ],
   "source": [
    "# Now repeat previous steps for Solar.R variable using ['Ozone','Wind','Temp]\n",
    "OzoneDroppedValues_Solar = OzoneData.dropna(subset = ['Solar.R'])\n",
    "X1 = OzoneDroppedValues_Solar[['Ozone', 'Wind', 'Temp']]\n",
    "y1 = OzoneDroppedValues_Solar['Solar.R']\n",
    "lm1 = smf.ols(formula = 'y1 ~ X1', data = OzoneDroppedValues_Solar).fit()\n",
    "print(lm1.pvalues)"
   ]
  },
  {
   "cell_type": "code",
   "execution_count": 36,
   "metadata": {
    "collapsed": false
   },
   "outputs": [
    {
     "name": "stdout",
     "output_type": "stream",
     "text": [
      "Intercept    1.073069e-23\n",
      "X2           1.560239e-04\n",
      "dtype: float64\n"
     ]
    },
    {
     "data": {
      "text/html": [
       "<div>\n",
       "<table border=\"1\" class=\"dataframe\">\n",
       "  <thead>\n",
       "    <tr style=\"text-align: right;\">\n",
       "      <th></th>\n",
       "      <th>Ozone</th>\n",
       "      <th>Solar.R</th>\n",
       "      <th>Wind</th>\n",
       "      <th>Temp</th>\n",
       "      <th>Month</th>\n",
       "      <th>Day</th>\n",
       "      <th>Month_5</th>\n",
       "      <th>Month_6</th>\n",
       "      <th>Month_7</th>\n",
       "      <th>Month_8</th>\n",
       "    </tr>\n",
       "  </thead>\n",
       "  <tbody>\n",
       "    <tr>\n",
       "      <th>0</th>\n",
       "      <td>37.902359</td>\n",
       "      <td>184.882648</td>\n",
       "      <td>7.4</td>\n",
       "      <td>67</td>\n",
       "      <td>5</td>\n",
       "      <td>1</td>\n",
       "      <td>1.0</td>\n",
       "      <td>0.0</td>\n",
       "      <td>0.0</td>\n",
       "      <td>0.0</td>\n",
       "    </tr>\n",
       "    <tr>\n",
       "      <th>1</th>\n",
       "      <td>39.985348</td>\n",
       "      <td>180.238844</td>\n",
       "      <td>8.0</td>\n",
       "      <td>72</td>\n",
       "      <td>5</td>\n",
       "      <td>2</td>\n",
       "      <td>1.0</td>\n",
       "      <td>0.0</td>\n",
       "      <td>0.0</td>\n",
       "      <td>0.0</td>\n",
       "    </tr>\n",
       "    <tr>\n",
       "      <th>2</th>\n",
       "      <td>32.795274</td>\n",
       "      <td>157.948585</td>\n",
       "      <td>12.6</td>\n",
       "      <td>74</td>\n",
       "      <td>5</td>\n",
       "      <td>3</td>\n",
       "      <td>1.0</td>\n",
       "      <td>0.0</td>\n",
       "      <td>0.0</td>\n",
       "      <td>0.0</td>\n",
       "    </tr>\n",
       "    <tr>\n",
       "      <th>3</th>\n",
       "      <td>26.495151</td>\n",
       "      <td>163.521149</td>\n",
       "      <td>11.5</td>\n",
       "      <td>62</td>\n",
       "      <td>5</td>\n",
       "      <td>4</td>\n",
       "      <td>1.0</td>\n",
       "      <td>0.0</td>\n",
       "      <td>0.0</td>\n",
       "      <td>0.0</td>\n",
       "    </tr>\n",
       "    <tr>\n",
       "      <th>5</th>\n",
       "      <td>17.295052</td>\n",
       "      <td>172.808757</td>\n",
       "      <td>14.9</td>\n",
       "      <td>66</td>\n",
       "      <td>5</td>\n",
       "      <td>6</td>\n",
       "      <td>1.0</td>\n",
       "      <td>0.0</td>\n",
       "      <td>0.0</td>\n",
       "      <td>0.0</td>\n",
       "    </tr>\n",
       "  </tbody>\n",
       "</table>\n",
       "</div>"
      ],
      "text/plain": [
       "       Ozone     Solar.R  Wind  Temp  Month  Day  Month_5  Month_6  Month_7  \\\n",
       "0  37.902359  184.882648   7.4    67      5    1      1.0      0.0      0.0   \n",
       "1  39.985348  180.238844   8.0    72      5    2      1.0      0.0      0.0   \n",
       "2  32.795274  157.948585  12.6    74      5    3      1.0      0.0      0.0   \n",
       "3  26.495151  163.521149  11.5    62      5    4      1.0      0.0      0.0   \n",
       "5  17.295052  172.808757  14.9    66      5    6      1.0      0.0      0.0   \n",
       "\n",
       "   Month_8  \n",
       "0      0.0  \n",
       "1      0.0  \n",
       "2      0.0  \n",
       "3      0.0  \n",
       "5      0.0  "
      ]
     },
     "execution_count": 36,
     "metadata": {},
     "output_type": "execute_result"
    }
   ],
   "source": [
    "# now fill in null values of OzoneData['Solar.R'] by predicted values\n",
    "X2 = OzoneDroppedValues_Solar[['Ozone']]\n",
    "y2 = OzoneDroppedValues_Solar['Solar.R']\n",
    "lm2 = smf.ols(formula = 'y2 ~ X2', data = OzoneDroppedValues_Solar).fit()\n",
    "print(lm2.pvalues)\n",
    "\n",
    "lm = LinearRegression()\n",
    "\n",
    "lm.fit(X2, y2)\n",
    "\n",
    "X = OzoneDroppedValues_Solar[['Ozone']]\n",
    "\n",
    "OzoneData['Solar.R'] = lm.predict(X)\n",
    "OzoneData['Solar.R'].fillna(value = OzoneData['Solar.R'], inplace = True)\n",
    "OzoneData.head()"
   ]
  },
  {
   "cell_type": "markdown",
   "metadata": {},
   "source": [
    "#### Now check your filled data - if your predicted values are more than maximum or less than minimum, replace them by max and min"
   ]
  },
  {
   "cell_type": "code",
   "execution_count": 37,
   "metadata": {
    "collapsed": false
   },
   "outputs": [
    {
     "name": "stdout",
     "output_type": "stream",
     "text": [
      "6.31651493716e-14\n"
     ]
    },
    {
     "ename": "ValueError",
     "evalue": "shapes (151,3) and (7,) not aligned: 3 (dim 1) != 7 (dim 0)",
     "output_type": "error",
     "traceback": [
      "\u001b[0;31m---------------------------------------------------------------------------\u001b[0m",
      "\u001b[0;31mValueError\u001b[0m                                Traceback (most recent call last)",
      "\u001b[0;32m<ipython-input-37-d03186567457>\u001b[0m in \u001b[0;36m<module>\u001b[0;34m()\u001b[0m\n\u001b[1;32m     17\u001b[0m \u001b[0mX\u001b[0m \u001b[0;34m=\u001b[0m \u001b[0mOzoneData\u001b[0m\u001b[0;34m[\u001b[0m\u001b[0;34m[\u001b[0m\u001b[0;34m'Solar.R'\u001b[0m\u001b[0;34m,\u001b[0m \u001b[0;34m'Wind'\u001b[0m\u001b[0;34m,\u001b[0m \u001b[0;34m'Temp'\u001b[0m\u001b[0;34m]\u001b[0m\u001b[0;34m]\u001b[0m\u001b[0;34m\u001b[0m\u001b[0m\n\u001b[1;32m     18\u001b[0m \u001b[0;34m\u001b[0m\u001b[0m\n\u001b[0;32m---> 19\u001b[0;31m \u001b[0mOzoneData\u001b[0m\u001b[0;34m[\u001b[0m\u001b[0;34m'predicted_ozone_error'\u001b[0m\u001b[0;34m]\u001b[0m \u001b[0;34m=\u001b[0m \u001b[0mlinreg\u001b[0m\u001b[0;34m.\u001b[0m\u001b[0mpredict\u001b[0m\u001b[0;34m(\u001b[0m\u001b[0mX\u001b[0m\u001b[0;34m)\u001b[0m \u001b[0;34m+\u001b[0m \u001b[0mnp\u001b[0m\u001b[0;34m.\u001b[0m\u001b[0mrandom\u001b[0m\u001b[0;34m.\u001b[0m\u001b[0mnormal\u001b[0m\u001b[0;34m(\u001b[0m\u001b[0;36m0\u001b[0m\u001b[0;34m,\u001b[0m \u001b[0mStandard_error\u001b[0m\u001b[0;34m,\u001b[0m \u001b[0mlen\u001b[0m\u001b[0;34m(\u001b[0m\u001b[0mOzoneData\u001b[0m\u001b[0;34m)\u001b[0m\u001b[0;34m)\u001b[0m\u001b[0;34m\u001b[0m\u001b[0m\n\u001b[0m\u001b[1;32m     20\u001b[0m \u001b[0;34m\u001b[0m\u001b[0m\n\u001b[1;32m     21\u001b[0m \u001b[0;32mprint\u001b[0m\u001b[0;34m(\u001b[0m\u001b[0;34m'Minimum Values before adjustment %f:'\u001b[0m  \u001b[0;34m%\u001b[0m\u001b[0mOzoneData\u001b[0m\u001b[0;34m[\u001b[0m\u001b[0;34m'predicted_ozone_error'\u001b[0m\u001b[0;34m]\u001b[0m\u001b[0;34m.\u001b[0m\u001b[0mmin\u001b[0m\u001b[0;34m(\u001b[0m\u001b[0;34m)\u001b[0m\u001b[0;34m)\u001b[0m\u001b[0;34m\u001b[0m\u001b[0m\n",
      "\u001b[0;32m/Users/faryar.ghaemi/anaconda/lib/python2.7/site-packages/sklearn/linear_model/base.pyc\u001b[0m in \u001b[0;36mpredict\u001b[0;34m(self, X)\u001b[0m\n\u001b[1;32m    198\u001b[0m             \u001b[0mReturns\u001b[0m \u001b[0mpredicted\u001b[0m \u001b[0mvalues\u001b[0m\u001b[0;34m.\u001b[0m\u001b[0;34m\u001b[0m\u001b[0m\n\u001b[1;32m    199\u001b[0m         \"\"\"\n\u001b[0;32m--> 200\u001b[0;31m         \u001b[0;32mreturn\u001b[0m \u001b[0mself\u001b[0m\u001b[0;34m.\u001b[0m\u001b[0m_decision_function\u001b[0m\u001b[0;34m(\u001b[0m\u001b[0mX\u001b[0m\u001b[0;34m)\u001b[0m\u001b[0;34m\u001b[0m\u001b[0m\n\u001b[0m\u001b[1;32m    201\u001b[0m \u001b[0;34m\u001b[0m\u001b[0m\n\u001b[1;32m    202\u001b[0m     \u001b[0m_center_data\u001b[0m \u001b[0;34m=\u001b[0m \u001b[0mstaticmethod\u001b[0m\u001b[0;34m(\u001b[0m\u001b[0mcenter_data\u001b[0m\u001b[0;34m)\u001b[0m\u001b[0;34m\u001b[0m\u001b[0m\n",
      "\u001b[0;32m/Users/faryar.ghaemi/anaconda/lib/python2.7/site-packages/sklearn/linear_model/base.pyc\u001b[0m in \u001b[0;36m_decision_function\u001b[0;34m(self, X)\u001b[0m\n\u001b[1;32m    183\u001b[0m         \u001b[0mX\u001b[0m \u001b[0;34m=\u001b[0m \u001b[0mcheck_array\u001b[0m\u001b[0;34m(\u001b[0m\u001b[0mX\u001b[0m\u001b[0;34m,\u001b[0m \u001b[0maccept_sparse\u001b[0m\u001b[0;34m=\u001b[0m\u001b[0;34m[\u001b[0m\u001b[0;34m'csr'\u001b[0m\u001b[0;34m,\u001b[0m \u001b[0;34m'csc'\u001b[0m\u001b[0;34m,\u001b[0m \u001b[0;34m'coo'\u001b[0m\u001b[0;34m]\u001b[0m\u001b[0;34m)\u001b[0m\u001b[0;34m\u001b[0m\u001b[0m\n\u001b[1;32m    184\u001b[0m         return safe_sparse_dot(X, self.coef_.T,\n\u001b[0;32m--> 185\u001b[0;31m                                dense_output=True) + self.intercept_\n\u001b[0m\u001b[1;32m    186\u001b[0m \u001b[0;34m\u001b[0m\u001b[0m\n\u001b[1;32m    187\u001b[0m     \u001b[0;32mdef\u001b[0m \u001b[0mpredict\u001b[0m\u001b[0;34m(\u001b[0m\u001b[0mself\u001b[0m\u001b[0;34m,\u001b[0m \u001b[0mX\u001b[0m\u001b[0;34m)\u001b[0m\u001b[0;34m:\u001b[0m\u001b[0;34m\u001b[0m\u001b[0m\n",
      "\u001b[0;32m/Users/faryar.ghaemi/anaconda/lib/python2.7/site-packages/sklearn/utils/extmath.pyc\u001b[0m in \u001b[0;36msafe_sparse_dot\u001b[0;34m(a, b, dense_output)\u001b[0m\n\u001b[1;32m    182\u001b[0m         \u001b[0;32mreturn\u001b[0m \u001b[0mret\u001b[0m\u001b[0;34m\u001b[0m\u001b[0m\n\u001b[1;32m    183\u001b[0m     \u001b[0;32melse\u001b[0m\u001b[0;34m:\u001b[0m\u001b[0;34m\u001b[0m\u001b[0m\n\u001b[0;32m--> 184\u001b[0;31m         \u001b[0;32mreturn\u001b[0m \u001b[0mfast_dot\u001b[0m\u001b[0;34m(\u001b[0m\u001b[0ma\u001b[0m\u001b[0;34m,\u001b[0m \u001b[0mb\u001b[0m\u001b[0;34m)\u001b[0m\u001b[0;34m\u001b[0m\u001b[0m\n\u001b[0m\u001b[1;32m    185\u001b[0m \u001b[0;34m\u001b[0m\u001b[0m\n\u001b[1;32m    186\u001b[0m \u001b[0;34m\u001b[0m\u001b[0m\n",
      "\u001b[0;31mValueError\u001b[0m: shapes (151,3) and (7,) not aligned: 3 (dim 1) != 7 (dim 0)"
     ]
    }
   ],
   "source": [
    "linreg = LinearRegression()\n",
    "\n",
    "X = OzoneDroppedValues_Ozone[['Solar.R', 'Wind', 'Temp', 'Month_5', 'Month_6', 'Month_7', 'Month_8']]\n",
    "y = OzoneDroppedValues_Ozone['Ozone']\n",
    "\n",
    "linreg.fit(X,y)\n",
    "\n",
    "y_hat = linreg.predict(X)\n",
    "\n",
    "Standard_error = ( sum( (y - y_hat) ** 2 )/(len(y) - 2) ) ** .5\n",
    "\n",
    "print(Standard_error)\n",
    "\n",
    "y_min = y.min()\n",
    "y_max = y.max()\n",
    "\n",
    "X = OzoneData[['Solar.R', 'Wind', 'Temp']]\n",
    "\n",
    "OzoneData['predicted_ozone_error'] = linreg.predict(X) + np.random.normal(0, Standard_error, len(OzoneData))\n",
    "\n",
    "print('Minimum Values before adjustment %f:'  %OzoneData['predicted_ozone_error'].min())\n",
    "\n",
    "##### Here we make sure we don't predict beyond or below our age limits\n",
    "\n",
    "OzoneData.loc[(OzoneData['predicted_ozone_error'] < y_min), 'predicted_ozone_error'] = y_min \n",
    "OzoneData.loc[(OzoneData['predicted_ozone_error'] > y_max), 'predicted_ozone_error'] = y_max\n",
    "\n",
    "print('Minimum Values after adjustment %f:'  %OzoneData['predicted_ozone_error'].min())\n",
    "\n",
    "\n",
    "OzoneData['Ozone'].fillna(value = OzoneData['predicted_ozone_error'], inplace = True)\n",
    "\n",
    "OzoneData.head(20)"
   ]
  },
  {
   "cell_type": "code",
   "execution_count": null,
   "metadata": {
    "collapsed": true
   },
   "outputs": [],
   "source": []
  },
  {
   "cell_type": "markdown",
   "metadata": {},
   "source": [
    "#### Bonus: Repeat the above procedure, this time fill in missing values using regression with errors. "
   ]
  },
  {
   "cell_type": "code",
   "execution_count": null,
   "metadata": {
    "collapsed": true
   },
   "outputs": [],
   "source": [
    "url = \"https://raw.githubusercontent.com/ga-students/DS-SF-24/master/Data/ozone.csv\"\n",
    "OzoneData = pd.read_csv(url)"
   ]
  },
  {
   "cell_type": "code",
   "execution_count": null,
   "metadata": {
    "collapsed": true
   },
   "outputs": [],
   "source": []
  }
 ],
 "metadata": {
  "kernelspec": {
   "display_name": "Python 2",
   "language": "python",
   "name": "python2"
  },
  "language_info": {
   "codemirror_mode": {
    "name": "ipython",
    "version": 2
   },
   "file_extension": ".py",
   "mimetype": "text/x-python",
   "name": "python",
   "nbconvert_exporter": "python",
   "pygments_lexer": "ipython2",
   "version": "2.7.11"
  }
 },
 "nbformat": 4,
 "nbformat_minor": 0
}
