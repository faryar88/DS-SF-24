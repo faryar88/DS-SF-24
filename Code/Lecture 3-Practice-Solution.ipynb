{
 "cells": [
  {
   "cell_type": "code",
   "execution_count": 1,
   "metadata": {
    "collapsed": false
   },
   "outputs": [
    {
     "data": {
      "text/html": [
       "<div>\n",
       "<table border=\"1\" class=\"dataframe\">\n",
       "  <thead>\n",
       "    <tr style=\"text-align: right;\">\n",
       "      <th></th>\n",
       "      <th>name</th>\n",
       "      <th>mpg</th>\n",
       "      <th>cyl</th>\n",
       "      <th>disp</th>\n",
       "      <th>hp</th>\n",
       "      <th>drat</th>\n",
       "      <th>wt</th>\n",
       "      <th>qsec</th>\n",
       "      <th>vs</th>\n",
       "      <th>am</th>\n",
       "      <th>gear</th>\n",
       "      <th>carb</th>\n",
       "    </tr>\n",
       "  </thead>\n",
       "  <tbody>\n",
       "    <tr>\n",
       "      <th>0</th>\n",
       "      <td>Mazda RX4</td>\n",
       "      <td>21.0</td>\n",
       "      <td>6</td>\n",
       "      <td>160.0</td>\n",
       "      <td>110</td>\n",
       "      <td>3.90</td>\n",
       "      <td>2.620</td>\n",
       "      <td>16.46</td>\n",
       "      <td>0</td>\n",
       "      <td>1</td>\n",
       "      <td>4</td>\n",
       "      <td>4</td>\n",
       "    </tr>\n",
       "    <tr>\n",
       "      <th>1</th>\n",
       "      <td>Mazda RX4 Wag</td>\n",
       "      <td>21.0</td>\n",
       "      <td>6</td>\n",
       "      <td>160.0</td>\n",
       "      <td>110</td>\n",
       "      <td>3.90</td>\n",
       "      <td>2.875</td>\n",
       "      <td>17.02</td>\n",
       "      <td>0</td>\n",
       "      <td>1</td>\n",
       "      <td>4</td>\n",
       "      <td>4</td>\n",
       "    </tr>\n",
       "    <tr>\n",
       "      <th>2</th>\n",
       "      <td>Datsun 710</td>\n",
       "      <td>22.8</td>\n",
       "      <td>4</td>\n",
       "      <td>108.0</td>\n",
       "      <td>93</td>\n",
       "      <td>3.85</td>\n",
       "      <td>2.320</td>\n",
       "      <td>18.61</td>\n",
       "      <td>1</td>\n",
       "      <td>1</td>\n",
       "      <td>4</td>\n",
       "      <td>1</td>\n",
       "    </tr>\n",
       "    <tr>\n",
       "      <th>3</th>\n",
       "      <td>Hornet 4 Drive</td>\n",
       "      <td>21.4</td>\n",
       "      <td>6</td>\n",
       "      <td>258.0</td>\n",
       "      <td>110</td>\n",
       "      <td>3.08</td>\n",
       "      <td>3.215</td>\n",
       "      <td>19.44</td>\n",
       "      <td>1</td>\n",
       "      <td>0</td>\n",
       "      <td>3</td>\n",
       "      <td>1</td>\n",
       "    </tr>\n",
       "    <tr>\n",
       "      <th>4</th>\n",
       "      <td>Hornet Sportabout</td>\n",
       "      <td>18.7</td>\n",
       "      <td>8</td>\n",
       "      <td>360.0</td>\n",
       "      <td>175</td>\n",
       "      <td>3.15</td>\n",
       "      <td>3.440</td>\n",
       "      <td>17.02</td>\n",
       "      <td>0</td>\n",
       "      <td>0</td>\n",
       "      <td>3</td>\n",
       "      <td>2</td>\n",
       "    </tr>\n",
       "  </tbody>\n",
       "</table>\n",
       "</div>"
      ],
      "text/plain": [
       "                name   mpg  cyl   disp   hp  drat     wt   qsec  vs  am  gear  \\\n",
       "0          Mazda RX4  21.0    6  160.0  110  3.90  2.620  16.46   0   1     4   \n",
       "1      Mazda RX4 Wag  21.0    6  160.0  110  3.90  2.875  17.02   0   1     4   \n",
       "2         Datsun 710  22.8    4  108.0   93  3.85  2.320  18.61   1   1     4   \n",
       "3     Hornet 4 Drive  21.4    6  258.0  110  3.08  3.215  19.44   1   0     3   \n",
       "4  Hornet Sportabout  18.7    8  360.0  175  3.15  3.440  17.02   0   0     3   \n",
       "\n",
       "   carb  \n",
       "0     4  \n",
       "1     4  \n",
       "2     1  \n",
       "3     1  \n",
       "4     2  "
      ]
     },
     "execution_count": 1,
     "metadata": {},
     "output_type": "execute_result"
    }
   ],
   "source": [
    "import pandas as pd\n",
    "url = \"https://raw.githubusercontent.com/ga-students/DS-SF-24/master/Data/mtcars.csv\"\n",
    "CarData = pd.read_csv(url)\n",
    "CarData.head()"
   ]
  },
  {
   "cell_type": "markdown",
   "metadata": {},
   "source": [
    "Here is the dictionary of our data: https://stat.ethz.ch/R-manual/R-devel/library/datasets/html/mtcars.html"
   ]
  },
  {
   "cell_type": "code",
   "execution_count": 2,
   "metadata": {
    "collapsed": false
   },
   "outputs": [
    {
     "data": {
      "text/plain": [
       "<matplotlib.axes._subplots.AxesSubplot at 0x116bf9e50>"
      ]
     },
     "execution_count": 2,
     "metadata": {},
     "output_type": "execute_result"
    },
    {
     "data": {
      "image/png": "[encoded data removed]",
      "text/plain": [
       "<matplotlib.figure.Figure at 0x116bf9550>"
      ]
     },
     "metadata": {},
     "output_type": "display_data"
    }
   ],
   "source": [
    "import matplotlib.pyplot as plt\n",
    "%matplotlib inline\n",
    "CarData.plot(kind = 'box')"
   ]
  },
  {
   "cell_type": "code",
   "execution_count": 3,
   "metadata": {
    "collapsed": true
   },
   "outputs": [],
   "source": [
    "Q1_hp = CarData['hp'].quantile(.25)  #Here is first Quartilefor hp\n",
    "Q3_hp = CarData['hp'].quantile(.75)  #Here is third Quartile for hp\n",
    "IQR_hp = Q3_hp - Q1_hp  "
   ]
  },
  {
   "cell_type": "markdown",
   "metadata": {},
   "source": [
    "#### Let's get rid of outliers"
   ]
  },
  {
   "cell_type": "code",
   "execution_count": 4,
   "metadata": {
    "collapsed": true
   },
   "outputs": [],
   "source": [
    "CarData.drop(CarData[(CarData['hp'] > Q3_hp + 1.5*IQR_hp) |\n",
    "                     (CarData['hp'] < Q1_hp - 1.5*IQR_hp) ].index\n",
    "                        , inplace = True)"
   ]
  },
  {
   "cell_type": "code",
   "execution_count": 5,
   "metadata": {
    "collapsed": false
   },
   "outputs": [
    {
     "data": {
      "text/plain": [
       "<matplotlib.axes._subplots.AxesSubplot at 0x1196d6f50>"
      ]
     },
     "execution_count": 5,
     "metadata": {},
     "output_type": "execute_result"
    },
    {
     "data": {
      "image/png": "[encoded data removed]",
      "text/plain": [
       "<matplotlib.figure.Figure at 0x1190407d0>"
      ]
     },
     "metadata": {},
     "output_type": "display_data"
    }
   ],
   "source": [
    "CarData.plot(kind = 'box')"
   ]
  },
  {
   "cell_type": "markdown",
   "metadata": {},
   "source": [
    "#### Great! We have an outlier free dataset to work with!"
   ]
  },
  {
   "cell_type": "markdown",
   "metadata": {},
   "source": [
    "## First: Create a correlation matrix and explore it"
   ]
  },
  {
   "cell_type": "code",
   "execution_count": 6,
   "metadata": {
    "collapsed": false
   },
   "outputs": [
    {
     "data": {
      "text/html": [
       "<div>\n",
       "<table border=\"1\" class=\"dataframe\">\n",
       "  <thead>\n",
       "    <tr style=\"text-align: right;\">\n",
       "      <th></th>\n",
       "      <th>mpg</th>\n",
       "      <th>cyl</th>\n",
       "      <th>disp</th>\n",
       "      <th>hp</th>\n",
       "      <th>drat</th>\n",
       "      <th>wt</th>\n",
       "      <th>qsec</th>\n",
       "      <th>vs</th>\n",
       "      <th>am</th>\n",
       "      <th>gear</th>\n",
       "      <th>carb</th>\n",
       "    </tr>\n",
       "  </thead>\n",
       "  <tbody>\n",
       "    <tr>\n",
       "      <th>mpg</th>\n",
       "      <td>1.000000</td>\n",
       "      <td>-0.848252</td>\n",
       "      <td>-0.846203</td>\n",
       "      <td>-0.817454</td>\n",
       "      <td>0.686527</td>\n",
       "      <td>-0.869775</td>\n",
       "      <td>0.394328</td>\n",
       "      <td>0.655638</td>\n",
       "      <td>0.656624</td>\n",
       "      <td>0.567462</td>\n",
       "      <td>-0.575325</td>\n",
       "    </tr>\n",
       "    <tr>\n",
       "      <th>cyl</th>\n",
       "      <td>-0.848252</td>\n",
       "      <td>1.000000</td>\n",
       "      <td>0.903260</td>\n",
       "      <td>0.869776</td>\n",
       "      <td>-0.708753</td>\n",
       "      <td>0.785574</td>\n",
       "      <td>-0.571495</td>\n",
       "      <td>-0.805401</td>\n",
       "      <td>-0.586724</td>\n",
       "      <td>-0.594743</td>\n",
       "      <td>0.525530</td>\n",
       "    </tr>\n",
       "    <tr>\n",
       "      <th>disp</th>\n",
       "      <td>-0.846203</td>\n",
       "      <td>0.903260</td>\n",
       "      <td>1.000000</td>\n",
       "      <td>0.858715</td>\n",
       "      <td>-0.712171</td>\n",
       "      <td>0.887852</td>\n",
       "      <td>-0.425631</td>\n",
       "      <td>-0.706693</td>\n",
       "      <td>-0.632086</td>\n",
       "      <td>-0.626252</td>\n",
       "      <td>0.414851</td>\n",
       "    </tr>\n",
       "    <tr>\n",
       "      <th>hp</th>\n",
       "      <td>-0.817454</td>\n",
       "      <td>0.869776</td>\n",
       "      <td>0.858715</td>\n",
       "      <td>1.000000</td>\n",
       "      <td>-0.507509</td>\n",
       "      <td>0.724729</td>\n",
       "      <td>-0.663887</td>\n",
       "      <td>-0.753395</td>\n",
       "      <td>-0.416755</td>\n",
       "      <td>-0.352362</td>\n",
       "      <td>0.650476</td>\n",
       "    </tr>\n",
       "    <tr>\n",
       "      <th>drat</th>\n",
       "      <td>0.686527</td>\n",
       "      <td>-0.708753</td>\n",
       "      <td>-0.712171</td>\n",
       "      <td>-0.507509</td>\n",
       "      <td>1.000000</td>\n",
       "      <td>-0.712847</td>\n",
       "      <td>0.089908</td>\n",
       "      <td>0.442894</td>\n",
       "      <td>0.734561</td>\n",
       "      <td>0.746431</td>\n",
       "      <td>-0.098105</td>\n",
       "    </tr>\n",
       "    <tr>\n",
       "      <th>wt</th>\n",
       "      <td>-0.869775</td>\n",
       "      <td>0.785574</td>\n",
       "      <td>0.887852</td>\n",
       "      <td>0.724729</td>\n",
       "      <td>-0.712847</td>\n",
       "      <td>1.000000</td>\n",
       "      <td>-0.162421</td>\n",
       "      <td>-0.552654</td>\n",
       "      <td>-0.725626</td>\n",
       "      <td>-0.640649</td>\n",
       "      <td>0.481195</td>\n",
       "    </tr>\n",
       "    <tr>\n",
       "      <th>qsec</th>\n",
       "      <td>0.394328</td>\n",
       "      <td>-0.571495</td>\n",
       "      <td>-0.425631</td>\n",
       "      <td>-0.663887</td>\n",
       "      <td>0.089908</td>\n",
       "      <td>-0.162421</td>\n",
       "      <td>1.000000</td>\n",
       "      <td>0.742908</td>\n",
       "      <td>-0.171390</td>\n",
       "      <td>-0.117663</td>\n",
       "      <td>-0.604178</td>\n",
       "    </tr>\n",
       "    <tr>\n",
       "      <th>vs</th>\n",
       "      <td>0.655638</td>\n",
       "      <td>-0.805401</td>\n",
       "      <td>-0.706693</td>\n",
       "      <td>-0.753395</td>\n",
       "      <td>0.442894</td>\n",
       "      <td>-0.552654</td>\n",
       "      <td>0.742908</td>\n",
       "      <td>1.000000</td>\n",
       "      <td>0.210349</td>\n",
       "      <td>0.275662</td>\n",
       "      <td>-0.595944</td>\n",
       "    </tr>\n",
       "    <tr>\n",
       "      <th>am</th>\n",
       "      <td>0.656624</td>\n",
       "      <td>-0.586724</td>\n",
       "      <td>-0.632086</td>\n",
       "      <td>-0.416755</td>\n",
       "      <td>0.734561</td>\n",
       "      <td>-0.725626</td>\n",
       "      <td>-0.171390</td>\n",
       "      <td>0.210349</td>\n",
       "      <td>1.000000</td>\n",
       "      <td>0.783700</td>\n",
       "      <td>-0.088148</td>\n",
       "    </tr>\n",
       "    <tr>\n",
       "      <th>gear</th>\n",
       "      <td>0.567462</td>\n",
       "      <td>-0.594743</td>\n",
       "      <td>-0.626252</td>\n",
       "      <td>-0.352362</td>\n",
       "      <td>0.746431</td>\n",
       "      <td>-0.640649</td>\n",
       "      <td>-0.117663</td>\n",
       "      <td>0.275662</td>\n",
       "      <td>0.783700</td>\n",
       "      <td>1.000000</td>\n",
       "      <td>0.109379</td>\n",
       "    </tr>\n",
       "    <tr>\n",
       "      <th>carb</th>\n",
       "      <td>-0.575325</td>\n",
       "      <td>0.525530</td>\n",
       "      <td>0.414851</td>\n",
       "      <td>0.650476</td>\n",
       "      <td>-0.098105</td>\n",
       "      <td>0.481195</td>\n",
       "      <td>-0.604178</td>\n",
       "      <td>-0.595944</td>\n",
       "      <td>-0.088148</td>\n",
       "      <td>0.109379</td>\n",
       "      <td>1.000000</td>\n",
       "    </tr>\n",
       "  </tbody>\n",
       "</table>\n",
       "</div>"
      ],
      "text/plain": [
       "           mpg       cyl      disp        hp      drat        wt      qsec  \\\n",
       "mpg   1.000000 -0.848252 -0.846203 -0.817454  0.686527 -0.869775  0.394328   \n",
       "cyl  -0.848252  1.000000  0.903260  0.869776 -0.708753  0.785574 -0.571495   \n",
       "disp -0.846203  0.903260  1.000000  0.858715 -0.712171  0.887852 -0.425631   \n",
       "hp   -0.817454  0.869776  0.858715  1.000000 -0.507509  0.724729 -0.663887   \n",
       "drat  0.686527 -0.708753 -0.712171 -0.507509  1.000000 -0.712847  0.089908   \n",
       "wt   -0.869775  0.785574  0.887852  0.724729 -0.712847  1.000000 -0.162421   \n",
       "qsec  0.394328 -0.571495 -0.425631 -0.663887  0.089908 -0.162421  1.000000   \n",
       "vs    0.655638 -0.805401 -0.706693 -0.753395  0.442894 -0.552654  0.742908   \n",
       "am    0.656624 -0.586724 -0.632086 -0.416755  0.734561 -0.725626 -0.171390   \n",
       "gear  0.567462 -0.594743 -0.626252 -0.352362  0.746431 -0.640649 -0.117663   \n",
       "carb -0.575325  0.525530  0.414851  0.650476 -0.098105  0.481195 -0.604178   \n",
       "\n",
       "            vs        am      gear      carb  \n",
       "mpg   0.655638  0.656624  0.567462 -0.575325  \n",
       "cyl  -0.805401 -0.586724 -0.594743  0.525530  \n",
       "disp -0.706693 -0.632086 -0.626252  0.414851  \n",
       "hp   -0.753395 -0.416755 -0.352362  0.650476  \n",
       "drat  0.442894  0.734561  0.746431 -0.098105  \n",
       "wt   -0.552654 -0.725626 -0.640649  0.481195  \n",
       "qsec  0.742908 -0.171390 -0.117663 -0.604178  \n",
       "vs    1.000000  0.210349  0.275662 -0.595944  \n",
       "am    0.210349  1.000000  0.783700 -0.088148  \n",
       "gear  0.275662  0.783700  1.000000  0.109379  \n",
       "carb -0.595944 -0.088148  0.109379  1.000000  "
      ]
     },
     "execution_count": 6,
     "metadata": {},
     "output_type": "execute_result"
    }
   ],
   "source": [
    "CarData.corr()"
   ]
  },
  {
   "cell_type": "markdown",
   "metadata": {},
   "source": [
    "#### What do we learn from this Corr() Matrix?"
   ]
  },
  {
   "cell_type": "markdown",
   "metadata": {},
   "source": [
    "Answer: Most of the variables are highly corrolated. So, we shall be extremely careful when using variables in regression lines. We shall refrain from using correlated varaibles as inputs. "
   ]
  },
  {
   "cell_type": "markdown",
   "metadata": {},
   "source": [
    "### Let's draw scatter plot and regression plot of Mileage Per Gallon (y) vs horse power (x)"
   ]
  },
  {
   "cell_type": "code",
   "execution_count": 7,
   "metadata": {
    "collapsed": false
   },
   "outputs": [
    {
     "data": {
      "text/plain": [
       "<matplotlib.axes._subplots.AxesSubplot at 0x119c136d0>"
      ]
     },
     "execution_count": 7,
     "metadata": {},
     "output_type": "execute_result"
    },
    {
     "data": {
      "image/png": "[encoded data removed]",
      "text/plain": [
       "<matplotlib.figure.Figure at 0x119706b50>"
      ]
     },
     "metadata": {},
     "output_type": "display_data"
    }
   ],
   "source": [
    "#Scatter plot\n",
    "CarData.plot(kind = 'scatter',x = 'hp',y='mpg')"
   ]
  },
  {
   "cell_type": "code",
   "execution_count": 8,
   "metadata": {
    "collapsed": false
   },
   "outputs": [
    {
     "data": {
      "text/plain": [
       "<matplotlib.axes._subplots.AxesSubplot at 0x11c1abf50>"
      ]
     },
     "execution_count": 8,
     "metadata": {},
     "output_type": "execute_result"
    },
    {
     "data": {
      "image/png": "[encoded data removed]",
      "text/plain": [
       "<matplotlib.figure.Figure at 0x11c1ab790>"
      ]
     },
     "metadata": {},
     "output_type": "display_data"
    }
   ],
   "source": [
    "#regression plot\n",
    "import seaborn as sns\n",
    "sns.regplot(CarData.hp, CarData.mpg)"
   ]
  },
  {
   "cell_type": "markdown",
   "metadata": {},
   "source": [
    "#### How do you interpret these graphs?"
   ]
  },
  {
   "cell_type": "markdown",
   "metadata": {},
   "source": [
    "Answer: It looks like there is negative association between hp and mpg. That makes sense, since in order to achieve higher power you need to burn more gas!"
   ]
  },
  {
   "cell_type": "markdown",
   "metadata": {},
   "source": [
    "#### Now let's find build a regression line. Use hp to predict mpg"
   ]
  },
  {
   "cell_type": "code",
   "execution_count": 9,
   "metadata": {
    "collapsed": false
   },
   "outputs": [
    {
     "name": "stdout",
     "output_type": "stream",
     "text": [
      "31.7917856473\n",
      "[-0.08204757]\n"
     ]
    }
   ],
   "source": [
    "from sklearn.linear_model import LinearRegression  #import\n",
    "linreg = LinearRegression() #Instantiate\n",
    "X = CarData[['hp']]\n",
    "y= CarData['mpg']\n",
    "linreg.fit(X,y)\n",
    "print(linreg.intercept_)\n",
    "print(linreg.coef_)"
   ]
  },
  {
   "cell_type": "markdown",
   "metadata": {},
   "source": [
    "#### Write down the formula for your regression line"
   ]
  },
  {
   "cell_type": "code",
   "execution_count": 10,
   "metadata": {
    "collapsed": false,
    "scrolled": true
   },
   "outputs": [
    {
     "name": "stdout",
     "output_type": "stream",
     "text": [
      "Mpg_hat = 31.791786  -0.082048 * hp\n"
     ]
    }
   ],
   "source": [
    "print(\"Mpg_hat = %f  %f * hp\" %(linreg.intercept_, linreg.coef_))"
   ]
  },
  {
   "cell_type": "markdown",
   "metadata": {},
   "source": []
  },
  {
   "cell_type": "markdown",
   "metadata": {},
   "source": [
    "#### Interpret the coefficient of hp"
   ]
  },
  {
   "cell_type": "markdown",
   "metadata": {},
   "source": [
    "Answer: On average, for the cars under study, every additional horse power resulted in -0.08 loss in mpg efficiency. "
   ]
  },
  {
   "cell_type": "markdown",
   "metadata": {},
   "source": [
    "#### Let's make predictions for two cars VW Jetta and Bugatti Veyron . VW jetta has 170 hp and Bugatti Veyron has 1200 hp. What are your predictions for these two cars?"
   ]
  },
  {
   "cell_type": "code",
   "execution_count": 11,
   "metadata": {
    "collapsed": false
   },
   "outputs": [
    {
     "data": {
      "text/plain": [
       "count     31.000000\n",
       "mean     140.612903\n",
       "std       60.310683\n",
       "min       52.000000\n",
       "25%       96.000000\n",
       "50%      123.000000\n",
       "75%      180.000000\n",
       "max      264.000000\n",
       "Name: hp, dtype: float64"
      ]
     },
     "execution_count": 11,
     "metadata": {},
     "output_type": "execute_result"
    }
   ],
   "source": [
    "CarData['hp'].describe()"
   ]
  },
  {
   "cell_type": "code",
   "execution_count": 12,
   "metadata": {
    "collapsed": false
   },
   "outputs": [
    {
     "data": {
      "text/plain": [
       "array([ 17.84369885])"
      ]
     },
     "execution_count": 12,
     "metadata": {},
     "output_type": "execute_result"
    }
   ],
   "source": [
    "linreg.predict([[170]])"
   ]
  },
  {
   "cell_type": "markdown",
   "metadata": {},
   "source": [
    "Based on the summary we found that the range of our hp data is between 52 and 264. We can make predictions for VW Jetta but not Bugatti Veyron! Actually, your predictions for Bugatti Veryron would be -66 mpg if you were to use this model!!! Our prediction for VW Jetta is 17.84 mpg. "
   ]
  },
  {
   "cell_type": "markdown",
   "metadata": {},
   "source": [
    "#### Now let's work with categorical data"
   ]
  },
  {
   "cell_type": "markdown",
   "metadata": {},
   "source": [
    "Let's first create dummy variables for weight of cars. Let's categorize Cars based on weight. Those cars that are heavier than 75% of cars are going to be called \"Heavy\", those which are heavier than 25% of cars but lighter than the heaviest 25% cars are going to be Called \"Medium\" and finally, the lightest 25% cars are called \"Light\"."
   ]
  },
  {
   "cell_type": "code",
   "execution_count": 13,
   "metadata": {
    "collapsed": false
   },
   "outputs": [
    {
     "data": {
      "text/html": [
       "<div>\n",
       "<table border=\"1\" class=\"dataframe\">\n",
       "  <thead>\n",
       "    <tr style=\"text-align: right;\">\n",
       "      <th></th>\n",
       "      <th>name</th>\n",
       "      <th>mpg</th>\n",
       "      <th>cyl</th>\n",
       "      <th>disp</th>\n",
       "      <th>hp</th>\n",
       "      <th>drat</th>\n",
       "      <th>wt</th>\n",
       "      <th>qsec</th>\n",
       "      <th>vs</th>\n",
       "      <th>am</th>\n",
       "      <th>gear</th>\n",
       "      <th>carb</th>\n",
       "      <th>wt_category</th>\n",
       "    </tr>\n",
       "  </thead>\n",
       "  <tbody>\n",
       "    <tr>\n",
       "      <th>0</th>\n",
       "      <td>Mazda RX4</td>\n",
       "      <td>21.0</td>\n",
       "      <td>6</td>\n",
       "      <td>160.0</td>\n",
       "      <td>110</td>\n",
       "      <td>3.90</td>\n",
       "      <td>2.620</td>\n",
       "      <td>16.46</td>\n",
       "      <td>0</td>\n",
       "      <td>1</td>\n",
       "      <td>4</td>\n",
       "      <td>4</td>\n",
       "      <td>Medium</td>\n",
       "    </tr>\n",
       "    <tr>\n",
       "      <th>1</th>\n",
       "      <td>Mazda RX4 Wag</td>\n",
       "      <td>21.0</td>\n",
       "      <td>6</td>\n",
       "      <td>160.0</td>\n",
       "      <td>110</td>\n",
       "      <td>3.90</td>\n",
       "      <td>2.875</td>\n",
       "      <td>17.02</td>\n",
       "      <td>0</td>\n",
       "      <td>1</td>\n",
       "      <td>4</td>\n",
       "      <td>4</td>\n",
       "      <td>Medium</td>\n",
       "    </tr>\n",
       "    <tr>\n",
       "      <th>2</th>\n",
       "      <td>Datsun 710</td>\n",
       "      <td>22.8</td>\n",
       "      <td>4</td>\n",
       "      <td>108.0</td>\n",
       "      <td>93</td>\n",
       "      <td>3.85</td>\n",
       "      <td>2.320</td>\n",
       "      <td>18.61</td>\n",
       "      <td>1</td>\n",
       "      <td>1</td>\n",
       "      <td>4</td>\n",
       "      <td>1</td>\n",
       "      <td>Light</td>\n",
       "    </tr>\n",
       "    <tr>\n",
       "      <th>3</th>\n",
       "      <td>Hornet 4 Drive</td>\n",
       "      <td>21.4</td>\n",
       "      <td>6</td>\n",
       "      <td>258.0</td>\n",
       "      <td>110</td>\n",
       "      <td>3.08</td>\n",
       "      <td>3.215</td>\n",
       "      <td>19.44</td>\n",
       "      <td>1</td>\n",
       "      <td>0</td>\n",
       "      <td>3</td>\n",
       "      <td>1</td>\n",
       "      <td>Medium</td>\n",
       "    </tr>\n",
       "    <tr>\n",
       "      <th>4</th>\n",
       "      <td>Hornet Sportabout</td>\n",
       "      <td>18.7</td>\n",
       "      <td>8</td>\n",
       "      <td>360.0</td>\n",
       "      <td>175</td>\n",
       "      <td>3.15</td>\n",
       "      <td>3.440</td>\n",
       "      <td>17.02</td>\n",
       "      <td>0</td>\n",
       "      <td>0</td>\n",
       "      <td>3</td>\n",
       "      <td>2</td>\n",
       "      <td>Medium</td>\n",
       "    </tr>\n",
       "  </tbody>\n",
       "</table>\n",
       "</div>"
      ],
      "text/plain": [
       "                name   mpg  cyl   disp   hp  drat     wt   qsec  vs  am  gear  \\\n",
       "0          Mazda RX4  21.0    6  160.0  110  3.90  2.620  16.46   0   1     4   \n",
       "1      Mazda RX4 Wag  21.0    6  160.0  110  3.90  2.875  17.02   0   1     4   \n",
       "2         Datsun 710  22.8    4  108.0   93  3.85  2.320  18.61   1   1     4   \n",
       "3     Hornet 4 Drive  21.4    6  258.0  110  3.08  3.215  19.44   1   0     3   \n",
       "4  Hornet Sportabout  18.7    8  360.0  175  3.15  3.440  17.02   0   0     3   \n",
       "\n",
       "   carb wt_category  \n",
       "0     4      Medium  \n",
       "1     4      Medium  \n",
       "2     1       Light  \n",
       "3     1      Medium  \n",
       "4     2      Medium  "
      ]
     },
     "execution_count": 13,
     "metadata": {},
     "output_type": "execute_result"
    }
   ],
   "source": [
    "mask_Heavy = (CarData['wt'] > CarData['wt'].quantile(0.75))\n",
    "mask_Light = (CarData['wt'] < CarData['wt'].quantile(0.25))\n",
    "CarData['wt_category'] = 'Medium'\n",
    "CarData.loc[mask_Heavy,'wt_category'] = 'Heavy'\n",
    "CarData.loc[mask_Light,'wt_category'] = 'Light'\n",
    "CarData.head()"
   ]
  },
  {
   "cell_type": "code",
   "execution_count": 14,
   "metadata": {
    "collapsed": false
   },
   "outputs": [
    {
     "data": {
      "text/html": [
       "<div>\n",
       "<table border=\"1\" class=\"dataframe\">\n",
       "  <thead>\n",
       "    <tr style=\"text-align: right;\">\n",
       "      <th></th>\n",
       "      <th>name</th>\n",
       "      <th>mpg</th>\n",
       "      <th>cyl</th>\n",
       "      <th>disp</th>\n",
       "      <th>hp</th>\n",
       "      <th>drat</th>\n",
       "      <th>wt</th>\n",
       "      <th>qsec</th>\n",
       "      <th>vs</th>\n",
       "      <th>am</th>\n",
       "      <th>gear</th>\n",
       "      <th>carb</th>\n",
       "      <th>wt_category</th>\n",
       "      <th>Heavy</th>\n",
       "      <th>Medium</th>\n",
       "    </tr>\n",
       "  </thead>\n",
       "  <tbody>\n",
       "    <tr>\n",
       "      <th>0</th>\n",
       "      <td>Mazda RX4</td>\n",
       "      <td>21.0</td>\n",
       "      <td>6</td>\n",
       "      <td>160.0</td>\n",
       "      <td>110</td>\n",
       "      <td>3.90</td>\n",
       "      <td>2.620</td>\n",
       "      <td>16.46</td>\n",
       "      <td>0</td>\n",
       "      <td>1</td>\n",
       "      <td>4</td>\n",
       "      <td>4</td>\n",
       "      <td>Medium</td>\n",
       "      <td>0.0</td>\n",
       "      <td>1.0</td>\n",
       "    </tr>\n",
       "    <tr>\n",
       "      <th>1</th>\n",
       "      <td>Mazda RX4 Wag</td>\n",
       "      <td>21.0</td>\n",
       "      <td>6</td>\n",
       "      <td>160.0</td>\n",
       "      <td>110</td>\n",
       "      <td>3.90</td>\n",
       "      <td>2.875</td>\n",
       "      <td>17.02</td>\n",
       "      <td>0</td>\n",
       "      <td>1</td>\n",
       "      <td>4</td>\n",
       "      <td>4</td>\n",
       "      <td>Medium</td>\n",
       "      <td>0.0</td>\n",
       "      <td>1.0</td>\n",
       "    </tr>\n",
       "    <tr>\n",
       "      <th>2</th>\n",
       "      <td>Datsun 710</td>\n",
       "      <td>22.8</td>\n",
       "      <td>4</td>\n",
       "      <td>108.0</td>\n",
       "      <td>93</td>\n",
       "      <td>3.85</td>\n",
       "      <td>2.320</td>\n",
       "      <td>18.61</td>\n",
       "      <td>1</td>\n",
       "      <td>1</td>\n",
       "      <td>4</td>\n",
       "      <td>1</td>\n",
       "      <td>Light</td>\n",
       "      <td>0.0</td>\n",
       "      <td>0.0</td>\n",
       "    </tr>\n",
       "    <tr>\n",
       "      <th>3</th>\n",
       "      <td>Hornet 4 Drive</td>\n",
       "      <td>21.4</td>\n",
       "      <td>6</td>\n",
       "      <td>258.0</td>\n",
       "      <td>110</td>\n",
       "      <td>3.08</td>\n",
       "      <td>3.215</td>\n",
       "      <td>19.44</td>\n",
       "      <td>1</td>\n",
       "      <td>0</td>\n",
       "      <td>3</td>\n",
       "      <td>1</td>\n",
       "      <td>Medium</td>\n",
       "      <td>0.0</td>\n",
       "      <td>1.0</td>\n",
       "    </tr>\n",
       "    <tr>\n",
       "      <th>4</th>\n",
       "      <td>Hornet Sportabout</td>\n",
       "      <td>18.7</td>\n",
       "      <td>8</td>\n",
       "      <td>360.0</td>\n",
       "      <td>175</td>\n",
       "      <td>3.15</td>\n",
       "      <td>3.440</td>\n",
       "      <td>17.02</td>\n",
       "      <td>0</td>\n",
       "      <td>0</td>\n",
       "      <td>3</td>\n",
       "      <td>2</td>\n",
       "      <td>Medium</td>\n",
       "      <td>0.0</td>\n",
       "      <td>1.0</td>\n",
       "    </tr>\n",
       "  </tbody>\n",
       "</table>\n",
       "</div>"
      ],
      "text/plain": [
       "                name   mpg  cyl   disp   hp  drat     wt   qsec  vs  am  gear  \\\n",
       "0          Mazda RX4  21.0    6  160.0  110  3.90  2.620  16.46   0   1     4   \n",
       "1      Mazda RX4 Wag  21.0    6  160.0  110  3.90  2.875  17.02   0   1     4   \n",
       "2         Datsun 710  22.8    4  108.0   93  3.85  2.320  18.61   1   1     4   \n",
       "3     Hornet 4 Drive  21.4    6  258.0  110  3.08  3.215  19.44   1   0     3   \n",
       "4  Hornet Sportabout  18.7    8  360.0  175  3.15  3.440  17.02   0   0     3   \n",
       "\n",
       "   carb wt_category  Heavy  Medium  \n",
       "0     4      Medium    0.0     1.0  \n",
       "1     4      Medium    0.0     1.0  \n",
       "2     1       Light    0.0     0.0  \n",
       "3     1      Medium    0.0     1.0  \n",
       "4     2      Medium    0.0     1.0  "
      ]
     },
     "execution_count": 14,
     "metadata": {},
     "output_type": "execute_result"
    }
   ],
   "source": [
    "WeightDummy = pd.get_dummies(CarData.wt_category)\n",
    "del WeightDummy['Light']\n",
    "CarData = pd.concat([CarData,WeightDummy],axis = 1)\n",
    "CarData.head()"
   ]
  },
  {
   "cell_type": "code",
   "execution_count": 15,
   "metadata": {
    "collapsed": false
   },
   "outputs": [
    {
     "data": {
      "text/plain": [
       "<matplotlib.axes._subplots.AxesSubplot at 0x11d552c50>"
      ]
     },
     "execution_count": 15,
     "metadata": {},
     "output_type": "execute_result"
    },
    {
     "data": {
      "image/png": "[encoded data removed]",
      "text/plain": [
       "<matplotlib.figure.Figure at 0x10ab4b2d0>"
      ]
     },
     "metadata": {},
     "output_type": "display_data"
    }
   ],
   "source": [
    "#Now let's visualize association between mpg and weight\n",
    "CarData.boxplot(column = 'mpg', by = 'wt_category') "
   ]
  },
  {
   "cell_type": "markdown",
   "metadata": {},
   "source": [
    "#### Does the abox boxplot make sense? Why it does or why it does not?"
   ]
  },
  {
   "cell_type": "markdown",
   "metadata": {},
   "source": [
    "Answer: Yes, it does makes perfect sense. The lighter cars have lower consumption whereas heavier cars use more gas."
   ]
  },
  {
   "cell_type": "markdown",
   "metadata": {},
   "source": [
    "#### Apply a multivariable regression line to discover relationship between mpg and weight categories. Print your outcomes."
   ]
  },
  {
   "cell_type": "code",
   "execution_count": 16,
   "metadata": {
    "collapsed": false
   },
   "outputs": [
    {
     "name": "stdout",
     "output_type": "stream",
     "text": [
      "28.0875\n",
      "[('Heavy', -13.474999999999998), ('Medium', -9.0008333333333344)]\n"
     ]
    }
   ],
   "source": [
    "X = CarData[['Heavy','Medium']]\n",
    "y= CarData['mpg']\n",
    "linreg.fit(X,y)\n",
    "print(linreg.intercept_)\n",
    "print(zip(['Heavy','Medium'],linreg.coef_))"
   ]
  },
  {
   "cell_type": "markdown",
   "metadata": {},
   "source": [
    "#### Write your regression line"
   ]
  },
  {
   "cell_type": "code",
   "execution_count": 17,
   "metadata": {
    "collapsed": false
   },
   "outputs": [
    {
     "name": "stdout",
     "output_type": "stream",
     "text": [
      "mph_hat = 28.087500 -13.475000 * Heavy -9.000833 * Medium\n"
     ]
    }
   ],
   "source": [
    "print(\"mph_hat = %f %f * Heavy %f * Medium\" %(linreg.intercept_, linreg.coef_[0],\n",
    "                                              linreg.coef_[1]))"
   ]
  },
  {
   "cell_type": "markdown",
   "metadata": {},
   "source": [
    "#### Please interpret your above results"
   ]
  },
  {
   "cell_type": "markdown",
   "metadata": {},
   "source": [
    "Answer: MPG of heavy cars are on average 13.475 gallons more than light cars. Mpg of Medium cars on average is 9 gallons worse than light cars. "
   ]
  },
  {
   "cell_type": "markdown",
   "metadata": {},
   "source": [
    "** Without using perdict function, predict the average mpg of light, heavy and medium cars **"
   ]
  },
  {
   "cell_type": "markdown",
   "metadata": {},
   "source": [
    "Answer:\n",
    "mpg[Light] = 28.0875\n",
    "\n",
    "mpg[Medium] = 28.0875 - 9 = 19.0875\n",
    "\n",
    "mpg[Heavy] = 28.0875 - 13.475 = 14.6125"
   ]
  },
  {
   "cell_type": "markdown",
   "metadata": {},
   "source": [
    "** Now let's use predict function to predict mpg for light, heavy and medium cars **"
   ]
  },
  {
   "cell_type": "code",
   "execution_count": 18,
   "metadata": {
    "collapsed": false
   },
   "outputs": [
    {
     "name": "stdout",
     "output_type": "stream",
     "text": [
      "('Light Cars: ', array([ 28.0875]))\n",
      "('Heavy Cars: ', array([ 14.6125]))\n",
      "('Medium Cars: ', array([ 19.08666667]))\n"
     ]
    }
   ],
   "source": [
    "print(\"Light Cars: \", linreg.predict([[0,0]])) # this is our prediction for Light Cars\n",
    "print(\"Heavy Cars: \", linreg.predict([[1,0]])) # this is our prediction for Heavy Cars\n",
    "print(\"Medium Cars: \", linreg.predict([[0,1]])) # this is our prediction for Medium Cars"
   ]
  },
  {
   "cell_type": "code",
   "execution_count": null,
   "metadata": {
    "collapsed": true
   },
   "outputs": [],
   "source": []
  },
  {
   "cell_type": "code",
   "execution_count": null,
   "metadata": {
    "collapsed": true
   },
   "outputs": [],
   "source": []
  },
  {
   "cell_type": "code",
   "execution_count": null,
   "metadata": {
    "collapsed": true
   },
   "outputs": [],
   "source": []
  },
  {
   "cell_type": "code",
   "execution_count": null,
   "metadata": {
    "collapsed": true
   },
   "outputs": [],
   "source": []
  }
 ],
 "metadata": {
  "kernelspec": {
   "display_name": "Python 2",
   "language": "python",
   "name": "python2"
  },
  "language_info": {
   "codemirror_mode": {
    "name": "ipython",
    "version": 2
   },
   "file_extension": ".py",
   "mimetype": "text/x-python",
   "name": "python",
   "nbconvert_exporter": "python",
   "pygments_lexer": "ipython2",
   "version": "2.7.11"
  }
 },
 "nbformat": 4,
 "nbformat_minor": 0
}
