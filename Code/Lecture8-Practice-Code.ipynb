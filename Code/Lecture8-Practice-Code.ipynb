{
 "cells": [
  {
   "cell_type": "code",
   "execution_count": 6,
   "metadata": {
    "collapsed": true
   },
   "outputs": [],
   "source": [
    "import pandas as pd\n",
    "import numpy as np\n",
    "from sklearn.linear_model import LogisticRegression\n",
    "from sklearn.cross_validation import cross_val_score\n",
    "from sklearn.metrics import confusion_matrix\n",
    "import matplotlib.pyplot as plt\n",
    "%matplotlib inline\n",
    "import statsmodels.api as sm"
   ]
  },
  {
   "cell_type": "code",
   "execution_count": 7,
   "metadata": {
    "collapsed": false
   },
   "outputs": [
    {
     "data": {
      "text/html": [
       "<div>\n",
       "<table border=\"1\" class=\"dataframe\">\n",
       "  <thead>\n",
       "    <tr style=\"text-align: right;\">\n",
       "      <th></th>\n",
       "      <th>age</th>\n",
       "      <th>marital</th>\n",
       "      <th>education</th>\n",
       "      <th>default</th>\n",
       "      <th>balance</th>\n",
       "      <th>housing</th>\n",
       "      <th>loan</th>\n",
       "      <th>contact</th>\n",
       "      <th>duration</th>\n",
       "      <th>campaign</th>\n",
       "      <th>pdays</th>\n",
       "      <th>previous</th>\n",
       "      <th>poutcome</th>\n",
       "      <th>y</th>\n",
       "    </tr>\n",
       "  </thead>\n",
       "  <tbody>\n",
       "    <tr>\n",
       "      <th>0</th>\n",
       "      <td>30</td>\n",
       "      <td>married</td>\n",
       "      <td>primary</td>\n",
       "      <td>no</td>\n",
       "      <td>1787</td>\n",
       "      <td>no</td>\n",
       "      <td>no</td>\n",
       "      <td>cellular</td>\n",
       "      <td>79</td>\n",
       "      <td>1</td>\n",
       "      <td>-1</td>\n",
       "      <td>0</td>\n",
       "      <td>unknown</td>\n",
       "      <td>no</td>\n",
       "    </tr>\n",
       "    <tr>\n",
       "      <th>1</th>\n",
       "      <td>33</td>\n",
       "      <td>married</td>\n",
       "      <td>secondary</td>\n",
       "      <td>no</td>\n",
       "      <td>4789</td>\n",
       "      <td>yes</td>\n",
       "      <td>yes</td>\n",
       "      <td>cellular</td>\n",
       "      <td>220</td>\n",
       "      <td>1</td>\n",
       "      <td>339</td>\n",
       "      <td>4</td>\n",
       "      <td>failure</td>\n",
       "      <td>no</td>\n",
       "    </tr>\n",
       "    <tr>\n",
       "      <th>2</th>\n",
       "      <td>35</td>\n",
       "      <td>single</td>\n",
       "      <td>tertiary</td>\n",
       "      <td>no</td>\n",
       "      <td>1350</td>\n",
       "      <td>yes</td>\n",
       "      <td>no</td>\n",
       "      <td>cellular</td>\n",
       "      <td>185</td>\n",
       "      <td>1</td>\n",
       "      <td>330</td>\n",
       "      <td>1</td>\n",
       "      <td>failure</td>\n",
       "      <td>no</td>\n",
       "    </tr>\n",
       "    <tr>\n",
       "      <th>3</th>\n",
       "      <td>30</td>\n",
       "      <td>married</td>\n",
       "      <td>tertiary</td>\n",
       "      <td>no</td>\n",
       "      <td>1476</td>\n",
       "      <td>yes</td>\n",
       "      <td>yes</td>\n",
       "      <td>unknown</td>\n",
       "      <td>199</td>\n",
       "      <td>4</td>\n",
       "      <td>-1</td>\n",
       "      <td>0</td>\n",
       "      <td>unknown</td>\n",
       "      <td>no</td>\n",
       "    </tr>\n",
       "    <tr>\n",
       "      <th>4</th>\n",
       "      <td>59</td>\n",
       "      <td>married</td>\n",
       "      <td>secondary</td>\n",
       "      <td>no</td>\n",
       "      <td>0</td>\n",
       "      <td>yes</td>\n",
       "      <td>no</td>\n",
       "      <td>unknown</td>\n",
       "      <td>226</td>\n",
       "      <td>1</td>\n",
       "      <td>-1</td>\n",
       "      <td>0</td>\n",
       "      <td>unknown</td>\n",
       "      <td>no</td>\n",
       "    </tr>\n",
       "  </tbody>\n",
       "</table>\n",
       "</div>"
      ],
      "text/plain": [
       "   age  marital  education default  balance housing loan   contact  duration  \\\n",
       "0   30  married    primary      no     1787      no   no  cellular        79   \n",
       "1   33  married  secondary      no     4789     yes  yes  cellular       220   \n",
       "2   35   single   tertiary      no     1350     yes   no  cellular       185   \n",
       "3   30  married   tertiary      no     1476     yes  yes   unknown       199   \n",
       "4   59  married  secondary      no        0     yes   no   unknown       226   \n",
       "\n",
       "   campaign  pdays  previous poutcome   y  \n",
       "0         1     -1         0  unknown  no  \n",
       "1         1    339         4  failure  no  \n",
       "2         1    330         1  failure  no  \n",
       "3         4     -1         0  unknown  no  \n",
       "4         1     -1         0  unknown  no  "
      ]
     },
     "execution_count": 7,
     "metadata": {},
     "output_type": "execute_result"
    }
   ],
   "source": [
    "url = \"https://raw.githubusercontent.com/ga-students/DS-SF-24/master/Data/bank.csv\"\n",
    "BankData = pd.read_csv(url)\n",
    "BankData.head(5)"
   ]
  },
  {
   "cell_type": "code",
   "execution_count": 8,
   "metadata": {
    "collapsed": false
   },
   "outputs": [
    {
     "name": "stdout",
     "output_type": "stream",
     "text": [
      "['no' 'yes']\n"
     ]
    }
   ],
   "source": [
    "print(BankData['y'].unique()) #you can use unique if you would like to find out how many unique attributes each variable have"
   ]
  },
  {
   "cell_type": "markdown",
   "metadata": {},
   "source": [
    "For dictionary of data please refer to https://archive.ics.uci.edu/ml/datasets/Bank+Marketing"
   ]
  },
  {
   "cell_type": "markdown",
   "metadata": {},
   "source": [
    "#### Our goal is to define a model best predicts outcome y - success of the marketing campaign "
   ]
  },
  {
   "cell_type": "markdown",
   "metadata": {},
   "source": [
    "First let's create dummy variables for default, marital, housing, and loan"
   ]
  },
  {
   "cell_type": "code",
   "execution_count": 9,
   "metadata": {
    "collapsed": false
   },
   "outputs": [
    {
     "name": "stdout",
     "output_type": "stream",
     "text": [
      "   age  marital  education default  balance housing loan   contact  duration  \\\n",
      "0   30  married    primary      no     1787      no   no  cellular        79   \n",
      "1   33  married  secondary      no     4789     yes  yes  cellular       220   \n",
      "2   35   single   tertiary      no     1350     yes   no  cellular       185   \n",
      "3   30  married   tertiary      no     1476     yes  yes   unknown       199   \n",
      "4   59  married  secondary      no        0     yes   no   unknown       226   \n",
      "\n",
      "   campaign  pdays  previous poutcome   y  marital_single  default_yes  \\\n",
      "0         1     -1         0  unknown  no             0.0          0.0   \n",
      "1         1    339         4  failure  no             0.0          0.0   \n",
      "2         1    330         1  failure  no             1.0          0.0   \n",
      "3         4     -1         0  unknown  no             0.0          0.0   \n",
      "4         1     -1         0  unknown  no             0.0          0.0   \n",
      "\n",
      "   housing_yes  loan_yes  y_yes  \n",
      "0          0.0       0.0    0.0  \n",
      "1          1.0       1.0    0.0  \n",
      "2          1.0       0.0    0.0  \n",
      "3          1.0       1.0    0.0  \n",
      "4          1.0       0.0    0.0  \n",
      "               age       balance     duration     campaign        pdays  \\\n",
      "count  4521.000000   4521.000000  4521.000000  4521.000000  4521.000000   \n",
      "mean     41.170095   1422.657819   263.961292     2.793630    39.766645   \n",
      "std      10.576211   3009.638142   259.856633     3.109807   100.121124   \n",
      "min      19.000000  -3313.000000     4.000000     1.000000    -1.000000   \n",
      "25%      33.000000     69.000000   104.000000     1.000000    -1.000000   \n",
      "50%      39.000000    444.000000   185.000000     2.000000    -1.000000   \n",
      "75%      49.000000   1480.000000   329.000000     3.000000    -1.000000   \n",
      "max      87.000000  71188.000000  3025.000000    50.000000   871.000000   \n",
      "\n",
      "          previous  marital_single  default_yes  housing_yes     loan_yes  \\\n",
      "count  4521.000000     4521.000000  4521.000000  4521.000000  4521.000000   \n",
      "mean      0.542579        0.264543     0.016810     0.566025     0.152842   \n",
      "std       1.693562        0.441138     0.128575     0.495676     0.359875   \n",
      "min       0.000000        0.000000     0.000000     0.000000     0.000000   \n",
      "25%       0.000000        0.000000     0.000000     0.000000     0.000000   \n",
      "50%       0.000000        0.000000     0.000000     1.000000     0.000000   \n",
      "75%       0.000000        1.000000     0.000000     1.000000     0.000000   \n",
      "max      25.000000        1.000000     1.000000     1.000000     1.000000   \n",
      "\n",
      "             y_yes  \n",
      "count  4521.000000  \n",
      "mean      0.115240  \n",
      "std       0.319347  \n",
      "min       0.000000  \n",
      "25%       0.000000  \n",
      "50%       0.000000  \n",
      "75%       0.000000  \n",
      "max       1.000000  \n"
     ]
    }
   ],
   "source": [
    "Default_dummy  = pd.get_dummies(BankData['default'], prefix = 'default')\n",
    "del Default_dummy['default_no']\n",
    "\n",
    "marital_dummy  = pd.get_dummies(BankData['marital'], prefix = 'marital')\n",
    "del marital_dummy['marital_married']\n",
    "del marital_dummy['marital_divorced']\n",
    "\n",
    "housing_dummy  = pd.get_dummies(BankData['housing'], prefix = 'housing')\n",
    "del housing_dummy['housing_no']\n",
    "\n",
    "loan_dummy = pd.get_dummies(BankData['loan'], prefix = 'loan')\n",
    "del loan_dummy['loan_no']\n",
    "\n",
    "y_dummy = pd.get_dummies(BankData['y'], prefix = 'y')\n",
    "del y_dummy['y_no']\n",
    "\n",
    "\n",
    "\n",
    "BankData = pd.concat([BankData, marital_dummy, Default_dummy, housing_dummy, loan_dummy, y_dummy], axis=1)\n",
    "print(BankData.head())\n",
    "print(BankData.describe())\n",
    "\n"
   ]
  },
  {
   "cell_type": "code",
   "execution_count": 10,
   "metadata": {
    "collapsed": false
   },
   "outputs": [],
   "source": [
    "BankData['Intercept'] = 1\n",
    "X1 = BankData[['Intercept','age','balance','duration','campaign','previous','marital_single','default_yes','housing_yes','loan_yes']]\n",
    "y1 = BankData['y_yes']\n"
   ]
  },
  {
   "cell_type": "markdown",
   "metadata": {},
   "source": [
    "#### Task 1: run a logistic regression using statsmodels.api"
   ]
  },
  {
   "cell_type": "code",
   "execution_count": 12,
   "metadata": {
    "collapsed": false
   },
   "outputs": [
    {
     "name": "stdout",
     "output_type": "stream",
     "text": [
      "Optimization terminated successfully.\n",
      "         Current function value: 0.279689\n",
      "         Iterations 7\n"
     ]
    },
    {
     "data": {
      "text/html": [
       "<table class=\"simpletable\">\n",
       "<caption>Logit Regression Results</caption>\n",
       "<tr>\n",
       "  <th>Dep. Variable:</th>       <td>y_yes</td>      <th>  No. Observations:  </th>   <td>  4521</td>  \n",
       "</tr>\n",
       "<tr>\n",
       "  <th>Model:</th>               <td>Logit</td>      <th>  Df Residuals:      </th>   <td>  4511</td>  \n",
       "</tr>\n",
       "<tr>\n",
       "  <th>Method:</th>               <td>MLE</td>       <th>  Df Model:          </th>   <td>     9</td>  \n",
       "</tr>\n",
       "<tr>\n",
       "  <th>Date:</th>          <td>Thu, 07 Jul 2016</td> <th>  Pseudo R-squ.:     </th>   <td>0.2173</td>  \n",
       "</tr>\n",
       "<tr>\n",
       "  <th>Time:</th>              <td>20:55:43</td>     <th>  Log-Likelihood:    </th>  <td> -1264.5</td> \n",
       "</tr>\n",
       "<tr>\n",
       "  <th>converged:</th>           <td>True</td>       <th>  LL-Null:           </th>  <td> -1615.5</td> \n",
       "</tr>\n",
       "<tr>\n",
       "  <th> </th>                      <td> </td>        <th>  LLR p-value:       </th> <td>2.503e-145</td>\n",
       "</tr>\n",
       "</table>\n",
       "<table class=\"simpletable\">\n",
       "<tr>\n",
       "         <td></td>           <th>coef</th>     <th>std err</th>      <th>z</th>      <th>P>|z|</th> <th>[95.0% Conf. Int.]</th> \n",
       "</tr>\n",
       "<tr>\n",
       "  <th>Intercept</th>      <td>   -3.2586</td> <td>    0.279</td> <td>  -11.695</td> <td> 0.000</td> <td>   -3.805    -2.712</td>\n",
       "</tr>\n",
       "<tr>\n",
       "  <th>age</th>            <td>    0.0101</td> <td>    0.005</td> <td>    1.905</td> <td> 0.057</td> <td>   -0.000     0.021</td>\n",
       "</tr>\n",
       "<tr>\n",
       "  <th>balance</th>        <td> 1.182e-05</td> <td> 1.58e-05</td> <td>    0.750</td> <td> 0.453</td> <td>-1.91e-05  4.27e-05</td>\n",
       "</tr>\n",
       "<tr>\n",
       "  <th>duration</th>       <td>    0.0038</td> <td>    0.000</td> <td>   20.782</td> <td> 0.000</td> <td>    0.003     0.004</td>\n",
       "</tr>\n",
       "<tr>\n",
       "  <th>campaign</th>       <td>   -0.0910</td> <td>    0.026</td> <td>   -3.488</td> <td> 0.000</td> <td>   -0.142    -0.040</td>\n",
       "</tr>\n",
       "<tr>\n",
       "  <th>previous</th>       <td>    0.1618</td> <td>    0.023</td> <td>    7.062</td> <td> 0.000</td> <td>    0.117     0.207</td>\n",
       "</tr>\n",
       "<tr>\n",
       "  <th>marital_single</th> <td>    0.3140</td> <td>    0.129</td> <td>    2.429</td> <td> 0.015</td> <td>    0.061     0.567</td>\n",
       "</tr>\n",
       "<tr>\n",
       "  <th>default_yes</th>    <td>    0.3459</td> <td>    0.412</td> <td>    0.841</td> <td> 0.401</td> <td>   -0.461     1.152</td>\n",
       "</tr>\n",
       "<tr>\n",
       "  <th>housing_yes</th>    <td>   -0.8404</td> <td>    0.111</td> <td>   -7.549</td> <td> 0.000</td> <td>   -1.059    -0.622</td>\n",
       "</tr>\n",
       "<tr>\n",
       "  <th>loan_yes</th>       <td>   -0.8483</td> <td>    0.185</td> <td>   -4.589</td> <td> 0.000</td> <td>   -1.211    -0.486</td>\n",
       "</tr>\n",
       "</table>"
      ],
      "text/plain": [
       "<class 'statsmodels.iolib.summary.Summary'>\n",
       "\"\"\"\n",
       "                           Logit Regression Results                           \n",
       "==============================================================================\n",
       "Dep. Variable:                  y_yes   No. Observations:                 4521\n",
       "Model:                          Logit   Df Residuals:                     4511\n",
       "Method:                           MLE   Df Model:                            9\n",
       "Date:                Thu, 07 Jul 2016   Pseudo R-squ.:                  0.2173\n",
       "Time:                        20:55:43   Log-Likelihood:                -1264.5\n",
       "converged:                       True   LL-Null:                       -1615.5\n",
       "                                        LLR p-value:                2.503e-145\n",
       "==================================================================================\n",
       "                     coef    std err          z      P>|z|      [95.0% Conf. Int.]\n",
       "----------------------------------------------------------------------------------\n",
       "Intercept         -3.2586      0.279    -11.695      0.000        -3.805    -2.712\n",
       "age                0.0101      0.005      1.905      0.057        -0.000     0.021\n",
       "balance         1.182e-05   1.58e-05      0.750      0.453     -1.91e-05  4.27e-05\n",
       "duration           0.0038      0.000     20.782      0.000         0.003     0.004\n",
       "campaign          -0.0910      0.026     -3.488      0.000        -0.142    -0.040\n",
       "previous           0.1618      0.023      7.062      0.000         0.117     0.207\n",
       "marital_single     0.3140      0.129      2.429      0.015         0.061     0.567\n",
       "default_yes        0.3459      0.412      0.841      0.401        -0.461     1.152\n",
       "housing_yes       -0.8404      0.111     -7.549      0.000        -1.059    -0.622\n",
       "loan_yes          -0.8483      0.185     -4.589      0.000        -1.211    -0.486\n",
       "==================================================================================\n",
       "\"\"\""
      ]
     },
     "execution_count": 12,
     "metadata": {},
     "output_type": "execute_result"
    }
   ],
   "source": [
    "logit = sm.Logit(y1, X1)\n",
    "result = logit.fit()\n",
    "result.summary()"
   ]
  },
  {
   "cell_type": "markdown",
   "metadata": {},
   "source": [
    "#### Task 2: Interpret Campaign, marital_single, housing_yes coefficients."
   ]
  },
  {
   "cell_type": "markdown",
   "metadata": {},
   "source": [
    "Answer: \n",
    "\n",
    "Campaign => (keeping everything else constant) as the number of contacts with the client goes up by one, the percentage in odds of the client subscribing to a term deposit decreases by 9.10% \n",
    "\n",
    "marital_single => (keeping everything else constant) if the client is single, the percentage in odds of the client subscribing to a term deposit increases by 31.4% \n",
    "\n",
    "housing_yes => (keeping everything else constant) if the client has a housing loan, the percentage in odds of the client subscribing to a term deposit decreases by 84.83%"
   ]
  },
  {
   "cell_type": "markdown",
   "metadata": {},
   "source": [
    "#### Task3: What are your 10-fold cross-validation accuracy using sklearn library and solver = 'liblinear' and solver =  'newton-cg'? (Set max_iter = 50000 if you get a warning.) What do you learn?"
   ]
  },
  {
   "cell_type": "code",
   "execution_count": 13,
   "metadata": {
    "collapsed": true
   },
   "outputs": [],
   "source": [
    "X = BankData[['age','balance','duration','campaign','previous','marital_single','default_yes','housing_yes','loan_yes']]\n",
    "y = BankData['y'] #This should be categorical - for statsmodels api that shall be 0 and 1 not necessarily '0' and '1'"
   ]
  },
  {
   "cell_type": "code",
   "execution_count": 15,
   "metadata": {
    "collapsed": false
   },
   "outputs": [
    {
     "name": "stdout",
     "output_type": "stream",
     "text": [
      "[[  5.92678773e-03   1.12262553e-05   3.75180658e-03  -9.53399063e-02\n",
      "    1.59580582e-01   2.49916961e-01   1.73238439e-01  -8.57853959e-01\n",
      "   -8.23424388e-01]]\n",
      "[-3.01711475]\n"
     ]
    }
   ],
   "source": [
    "lm = LogisticRegression(solver = 'liblinear')\n",
    "lm.fit(X, y)\n",
    "print(lm.coef_)\n",
    "print(lm.intercept_)"
   ]
  },
  {
   "cell_type": "code",
   "execution_count": 16,
   "metadata": {
    "collapsed": false
   },
   "outputs": [
    {
     "name": "stdout",
     "output_type": "stream",
     "text": [
      "[[  1.01764759e-02   1.19324009e-05   3.78719177e-03  -9.10647277e-02\n",
      "    1.61521383e-01   3.11420698e-01   2.92449864e-01  -8.30201335e-01\n",
      "   -8.19488560e-01]]\n",
      "[-3.2635987]\n"
     ]
    }
   ],
   "source": [
    "lm = LogisticRegression(solver = 'newton-cg')\n",
    "lm.fit(X, y)\n",
    "print(lm.coef_)\n",
    "print(lm.intercept_)"
   ]
  },
  {
   "cell_type": "markdown",
   "metadata": {},
   "source": [
    "#### Construct confusion matrices for logistic regression using solver = 'liblinear' and solver = 'newton-cg'."
   ]
  },
  {
   "cell_type": "code",
   "execution_count": 17,
   "metadata": {
    "collapsed": false
   },
   "outputs": [
    {
     "name": "stdout",
     "output_type": "stream",
     "text": [
      "[[  5.92678773e-03   1.12262553e-05   3.75180658e-03  -9.53399063e-02\n",
      "    1.59580582e-01   2.49916961e-01   1.73238439e-01  -8.57853959e-01\n",
      "   -8.23424388e-01]]\n",
      "[-3.01711475]\n"
     ]
    },
    {
     "data": {
      "text/plain": [
       "array([[3928,   72],\n",
       "       [ 426,   95]])"
      ]
     },
     "execution_count": 17,
     "metadata": {},
     "output_type": "execute_result"
    }
   ],
   "source": [
    "# liblinear \n",
    "from sklearn.metrics import confusion_matrix\n",
    "lm = LogisticRegression(solver = 'liblinear')\n",
    "lm.fit(X, y)\n",
    "print(lm.coef_)\n",
    "print(lm.intercept_)\n",
    "\n",
    "y_hat = lm.predict(X)\n",
    "confusion_matrix(y, y_hat)"
   ]
  },
  {
   "cell_type": "code",
   "execution_count": 18,
   "metadata": {
    "collapsed": false
   },
   "outputs": [
    {
     "name": "stdout",
     "output_type": "stream",
     "text": [
      "[[  1.01764759e-02   1.19324009e-05   3.78719177e-03  -9.10647277e-02\n",
      "    1.61521383e-01   3.11420698e-01   2.92449864e-01  -8.30201335e-01\n",
      "   -8.19488560e-01]]\n",
      "[-3.2635987]\n"
     ]
    },
    {
     "data": {
      "text/plain": [
       "array([[3923,   77],\n",
       "       [ 427,   94]])"
      ]
     },
     "execution_count": 18,
     "metadata": {},
     "output_type": "execute_result"
    }
   ],
   "source": [
    "# newton-cg \n",
    "from sklearn.metrics import confusion_matrix\n",
    "lm = LogisticRegression(solver = 'newton-cg')\n",
    "lm.fit(X, y)\n",
    "print(lm.coef_)\n",
    "print(lm.intercept_)\n",
    "\n",
    "y_hat = lm.predict(X)\n",
    "confusion_matrix(y, y_hat)"
   ]
  },
  {
   "cell_type": "markdown",
   "metadata": {},
   "source": [
    "#### what did we learn from what we observerd in confusion matrices?"
   ]
  },
  {
   "cell_type": "markdown",
   "metadata": {},
   "source": [
    "Answer: they are very close, liblinear predicted 5 more true positives and 1 more true negative "
   ]
  },
  {
   "cell_type": "markdown",
   "metadata": {},
   "source": [
    "#### What is your prediction for a person who is 30 years old, 1000 dollars balance,  with duration = 210 , has been contacted 3 times for this campaign (campaign = 3),  who has previously been contacted 4 times, who is single, never defaulted, home owner and doesn't have any loan?"
   ]
  },
  {
   "cell_type": "code",
   "execution_count": 19,
   "metadata": {
    "collapsed": false
   },
   "outputs": [
    {
     "name": "stdout",
     "output_type": "stream",
     "text": [
      "[[ 0.90862421  0.09137579]]\n"
     ]
    }
   ],
   "source": [
    "# X = BankData[['age','balance','duration','campaign','previous','marital_single','default_yes','housing_yes','loan_yes']]\n",
    "\n",
    "x1 = [[30, 1000, 210, 3, 4, 1, 0, 1, 0]]\n",
    "print(lm.predict_proba(x1))\n",
    "# 9.14% probability that the client will subscribe to a term deposit"
   ]
  },
  {
   "cell_type": "markdown",
   "metadata": {},
   "source": [
    "#### Now standardize your data - you can use standardization method used for KNN algorithms."
   ]
  },
  {
   "cell_type": "code",
   "execution_count": 21,
   "metadata": {
    "collapsed": true
   },
   "outputs": [],
   "source": [
    "def Standardize(X):\n",
    "    X_Max = X.max()\n",
    "    X_Min = X.min()\n",
    "    X_Standardized = (X-X_Min)/(X_Max - X_Min)\n",
    "    return X_Standardized\n",
    "\n",
    "BankData['age_st'] = Standardize(BankData.age)\n",
    "BankData['balance_st'] = Standardize(BankData.balance)\n",
    "BankData['duration_st'] = Standardize(BankData.duration)\n",
    "BankData['campaign_st'] = Standardize(BankData.campaign)\n",
    "BankData['previous_st'] = Standardize(BankData.previous)\n",
    "BankData['marital_single_st'] = Standardize(BankData.marital_single)\n",
    "BankData['default_yes_st'] = Standardize(BankData.default_yes)\n",
    "BankData['housing_yes_st'] = Standardize(BankData.housing_yes)\n",
    "BankData['loan_yes_st'] = Standardize(BankData.loan_yes)"
   ]
  },
  {
   "cell_type": "markdown",
   "metadata": {},
   "source": [
    "#### Use 10-fold cross validation to find the best tuning parameter - C. Use 'liblinear' and l1 penalty"
   ]
  },
  {
   "cell_type": "code",
   "execution_count": 22,
   "metadata": {
    "collapsed": false
   },
   "outputs": [
    {
     "data": {
      "image/png": "[encoded data removed]",
      "text/plain": [
       "<matplotlib.figure.Figure at 0x103bebd10>"
      ]
     },
     "metadata": {},
     "output_type": "display_data"
    },
    {
     "name": "stdout",
     "output_type": "stream",
     "text": [
      "Our optimal C is 1.000000\n",
      "Our accuracy at optimal C is 0.889848\n"
     ]
    }
   ],
   "source": [
    "X_st = BankData[['age_st','balance_st','duration_st','campaign_st','previous_st','marital_single_st','default_yes_st','housing_yes_st','loan_yes_st']]\n",
    "y = BankData['y']\n",
    "\n",
    "c_list = np.logspace(-10,10,21) \n",
    "c_index = np.linspace(-10,10,21)\n",
    "\n",
    "cv_scores = []\n",
    "\n",
    "for c_score in c_list:\n",
    "    lm = LogisticRegression(C = c_score,  solver = 'liblinear', max_iter  = 10000, penalty = 'l1')\n",
    "    cv_scores.append(cross_val_score(lm, X_st, y,cv = 10, scoring = 'accuracy').mean())\n",
    "\n",
    "plt.plot(c_index, cv_scores)\n",
    "plt.show()\n",
    "\n",
    "print(\"Our optimal C is %f\" %c_list[np.argmax(cv_scores)])   \n",
    "print(\"Our accuracy at optimal C is %f\" %np.max(cv_scores))"
   ]
  },
  {
   "cell_type": "markdown",
   "metadata": {},
   "source": [
    "#### Localize your search around the value you found above"
   ]
  },
  {
   "cell_type": "code",
   "execution_count": 25,
   "metadata": {
    "collapsed": false
   },
   "outputs": [
    {
     "data": {
      "image/png": "[encoded data removed]",
      "text/plain": [
       "<matplotlib.figure.Figure at 0x11e473350>"
      ]
     },
     "metadata": {},
     "output_type": "display_data"
    },
    {
     "name": "stdout",
     "output_type": "stream",
     "text": [
      "Our optimal C is 0.257576\n",
      "Our accuracy at optimal C is 0.890513\n"
     ]
    }
   ],
   "source": [
    "c_list = np.linspace(0.1,4,100) \n",
    "cv_scores = []\n",
    "\n",
    "for c_score in c_list:\n",
    "    lm = LogisticRegression(C = c_score,  solver = 'liblinear', max_iter  = 10000, penalty = 'l1')\n",
    "    cv_scores.append(cross_val_score(lm, X_st, y,cv = 10, scoring = 'accuracy').mean())\n",
    "\n",
    "plt.plot(c_list, cv_scores)\n",
    "plt.show()\n",
    "\n",
    "print(\"Our optimal C is %f\" %c_list[np.argmax(cv_scores)])   \n",
    "print(\"Our accuracy at optimal C is %f\" %np.max(cv_scores))"
   ]
  },
  {
   "cell_type": "markdown",
   "metadata": {},
   "source": [
    "#### Now use the best C you found above and repeat your analysis and check your coefficients"
   ]
  },
  {
   "cell_type": "code",
   "execution_count": null,
   "metadata": {
    "collapsed": false
   },
   "outputs": [],
   "source": [
    "\n"
   ]
  },
  {
   "cell_type": "code",
   "execution_count": null,
   "metadata": {
    "collapsed": false
   },
   "outputs": [],
   "source": []
  },
  {
   "cell_type": "markdown",
   "metadata": {},
   "source": [
    "#### If you would like to drop 2 variables from your analysis, which variables are you going to choose?"
   ]
  },
  {
   "cell_type": "markdown",
   "metadata": {},
   "source": [
    "Answer: "
   ]
  },
  {
   "cell_type": "markdown",
   "metadata": {},
   "source": [
    "#### Compare the results you found out above with p-values of statsmodels api. Do you have same story there? "
   ]
  },
  {
   "cell_type": "markdown",
   "metadata": {
    "collapsed": true
   },
   "source": [
    "Answer: "
   ]
  },
  {
   "cell_type": "code",
   "execution_count": null,
   "metadata": {
    "collapsed": true
   },
   "outputs": [],
   "source": []
  }
 ],
 "metadata": {
  "kernelspec": {
   "display_name": "Python 2",
   "language": "python",
   "name": "python2"
  },
  "language_info": {
   "codemirror_mode": {
    "name": "ipython",
    "version": 2
   },
   "file_extension": ".py",
   "mimetype": "text/x-python",
   "name": "python",
   "nbconvert_exporter": "python",
   "pygments_lexer": "ipython2",
   "version": "2.7.11"
  }
 },
 "nbformat": 4,
 "nbformat_minor": 0
}
